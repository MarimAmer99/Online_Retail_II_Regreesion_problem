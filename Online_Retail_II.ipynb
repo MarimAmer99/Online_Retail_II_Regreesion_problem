{
  "cells": [
    {
      "cell_type": "markdown",
      "metadata": {
        "id": "93WPo1kf0Vyr"
      },
      "source": [
        "# Online Retail II\n",
        "This Online Retail II data set contains all the transactions occurring for a UK-based and registered, non-store online retail between 01/12/2009 and 09/12/2011.The company mainly sells unique all-occasion gift-ware. Many customers of the company are wholesalers.\n",
        "\n",
        "## Input:\n",
        "\n",
        "**Website:** https://archive.ics.uci.edu/dataset/502/online+retail+ii\n",
        "\n",
        "**InvoiceNo:** Invoice number. Nominal. A 6-digit integral number uniquely assigned to each transaction. If this code starts with the letter 'c', it indicates a cancellation.\n",
        "\n",
        "**StockCode:** Product (item) code. Nominal. A 5-digit integral number uniquely assigned to each distinct product.\n",
        "\n",
        "**Description:** Product (item) name. Nominal.\n",
        "\n",
        "**Quantity:** The quantities of each product (item) per transaction. Numeric.\n",
        "\n",
        "**InvoiceDate:** Invice date and time. Numeric. The day and time when a transaction was generated.\n",
        "\n",
        "**UnitPrice:** Unit price. Numeric. Product price per unit in sterling (Â£).\n",
        "\n",
        "**CustomerID:** Customer number. Nominal. A 5-digit integral number uniquely assigned to each customer.\n",
        "\n",
        "**Country:** Country name. Nominal. The name of the country where a customer resides.\n",
        "\n",
        "## Output\n",
        "Predicts the total sales per customer.\n",
        "\n",
        "## Data mining function\n",
        "Regression and predict\n",
        "\n",
        "### Steps\n",
        "- Reading data\n",
        "\n",
        "- Fix Data Problems:\n",
        "{\n",
        "* Dealing with Missing values\n",
        "* Remove Description column and set null values in Customer ID\n",
        "* Removing duplicated rows\n",
        "* Replace invalid data in Quantity and Price columns\n",
        "* Cleaning Country column\n",
        "* Create new column to Split Invoice into cancel or not\n",
        "* Check duplicates\n",
        "}\n",
        "\n",
        "- Create new features\n",
        "\n",
        "- Merge DataFrame and Groupby tables\n",
        "\n",
        "- Preprocessing \n",
        "\n",
        "- Splitting data\n",
        "\n",
        "- Extract numerical features and categorical Features\n",
        "\n",
        "- Tuning Pipeline\n",
        "\n",
        "- Deep learning model"
      ]
    },
    {
      "cell_type": "code",
      "execution_count": 1,
      "metadata": {
        "id": "m6pJBVxDHwYu"
      },
      "outputs": [],
      "source": [
        "import numpy as np\n",
        "import pandas as pd\n",
        "import seaborn as sns\n",
        "import matplotlib.pyplot as plt\n",
        "\n",
        "import re"
      ]
    },
    {
      "cell_type": "markdown",
      "metadata": {
        "id": "5uzhCjcIGjlu"
      },
      "source": [
        "## Reading the data"
      ]
    },
    {
      "cell_type": "code",
      "execution_count": 2,
      "metadata": {
        "id": "dBU-8Qk0Gi90"
      },
      "outputs": [],
      "source": [
        "# Reading The data\n",
        "df = pd.concat(pd.read_excel('C:/Users/marim/OneDrive/Desktop/Havy/online+retail+ii/online_retail_II.xlsx', sheet_name = None), ignore_index= True)"
      ]
    },
    {
      "cell_type": "code",
      "execution_count": 3,
      "metadata": {
        "colab": {
          "base_uri": "https://localhost:8080/"
        },
        "id": "fieGz0gTGi__",
        "outputId": "0af00907-0f39-4a6b-968c-92706ea708d3"
      },
      "outputs": [
        {
          "data": {
            "text/html": [
              "<div>\n",
              "<style scoped>\n",
              "    .dataframe tbody tr th:only-of-type {\n",
              "        vertical-align: middle;\n",
              "    }\n",
              "\n",
              "    .dataframe tbody tr th {\n",
              "        vertical-align: top;\n",
              "    }\n",
              "\n",
              "    .dataframe thead th {\n",
              "        text-align: right;\n",
              "    }\n",
              "</style>\n",
              "<table border=\"1\" class=\"dataframe\">\n",
              "  <thead>\n",
              "    <tr style=\"text-align: right;\">\n",
              "      <th></th>\n",
              "      <th>Invoice</th>\n",
              "      <th>StockCode</th>\n",
              "      <th>Description</th>\n",
              "      <th>Quantity</th>\n",
              "      <th>InvoiceDate</th>\n",
              "      <th>Price</th>\n",
              "      <th>Customer ID</th>\n",
              "      <th>Country</th>\n",
              "    </tr>\n",
              "  </thead>\n",
              "  <tbody>\n",
              "    <tr>\n",
              "      <th>0</th>\n",
              "      <td>489434</td>\n",
              "      <td>85048</td>\n",
              "      <td>15CM CHRISTMAS GLASS BALL 20 LIGHTS</td>\n",
              "      <td>12</td>\n",
              "      <td>2009-12-01 07:45:00</td>\n",
              "      <td>6.95</td>\n",
              "      <td>13085.0</td>\n",
              "      <td>United Kingdom</td>\n",
              "    </tr>\n",
              "    <tr>\n",
              "      <th>1</th>\n",
              "      <td>489434</td>\n",
              "      <td>79323P</td>\n",
              "      <td>PINK CHERRY LIGHTS</td>\n",
              "      <td>12</td>\n",
              "      <td>2009-12-01 07:45:00</td>\n",
              "      <td>6.75</td>\n",
              "      <td>13085.0</td>\n",
              "      <td>United Kingdom</td>\n",
              "    </tr>\n",
              "    <tr>\n",
              "      <th>2</th>\n",
              "      <td>489434</td>\n",
              "      <td>79323W</td>\n",
              "      <td>WHITE CHERRY LIGHTS</td>\n",
              "      <td>12</td>\n",
              "      <td>2009-12-01 07:45:00</td>\n",
              "      <td>6.75</td>\n",
              "      <td>13085.0</td>\n",
              "      <td>United Kingdom</td>\n",
              "    </tr>\n",
              "    <tr>\n",
              "      <th>3</th>\n",
              "      <td>489434</td>\n",
              "      <td>22041</td>\n",
              "      <td>RECORD FRAME 7\" SINGLE SIZE</td>\n",
              "      <td>48</td>\n",
              "      <td>2009-12-01 07:45:00</td>\n",
              "      <td>2.10</td>\n",
              "      <td>13085.0</td>\n",
              "      <td>United Kingdom</td>\n",
              "    </tr>\n",
              "    <tr>\n",
              "      <th>4</th>\n",
              "      <td>489434</td>\n",
              "      <td>21232</td>\n",
              "      <td>STRAWBERRY CERAMIC TRINKET BOX</td>\n",
              "      <td>24</td>\n",
              "      <td>2009-12-01 07:45:00</td>\n",
              "      <td>1.25</td>\n",
              "      <td>13085.0</td>\n",
              "      <td>United Kingdom</td>\n",
              "    </tr>\n",
              "  </tbody>\n",
              "</table>\n",
              "</div>"
            ],
            "text/plain": [
              "  Invoice StockCode                          Description  Quantity  \\\n",
              "0  489434     85048  15CM CHRISTMAS GLASS BALL 20 LIGHTS        12   \n",
              "1  489434    79323P                   PINK CHERRY LIGHTS        12   \n",
              "2  489434    79323W                  WHITE CHERRY LIGHTS        12   \n",
              "3  489434     22041         RECORD FRAME 7\" SINGLE SIZE         48   \n",
              "4  489434     21232       STRAWBERRY CERAMIC TRINKET BOX        24   \n",
              "\n",
              "          InvoiceDate  Price  Customer ID         Country  \n",
              "0 2009-12-01 07:45:00   6.95      13085.0  United Kingdom  \n",
              "1 2009-12-01 07:45:00   6.75      13085.0  United Kingdom  \n",
              "2 2009-12-01 07:45:00   6.75      13085.0  United Kingdom  \n",
              "3 2009-12-01 07:45:00   2.10      13085.0  United Kingdom  \n",
              "4 2009-12-01 07:45:00   1.25      13085.0  United Kingdom  "
            ]
          },
          "execution_count": 3,
          "metadata": {},
          "output_type": "execute_result"
        }
      ],
      "source": [
        "#Dispaly the first 5 rows\n",
        "df.head()\n"
      ]
    },
    {
      "cell_type": "code",
      "execution_count": 4,
      "metadata": {
        "colab": {
          "base_uri": "https://localhost:8080/"
        },
        "id": "lyYwo5JvGjDB",
        "outputId": "e0a3e417-9fc5-456f-8d13-eb0fe999909d"
      },
      "outputs": [
        {
          "name": "stdout",
          "output_type": "stream",
          "text": [
            "        Invoice StockCode                      Description  Quantity  \\\n",
            "1067366  581587     22899     CHILDREN'S APRON DOLLY GIRL          6   \n",
            "1067367  581587     23254    CHILDRENS CUTLERY DOLLY GIRL          4   \n",
            "1067368  581587     23255  CHILDRENS CUTLERY CIRCUS PARADE         4   \n",
            "1067369  581587     22138    BAKING SET 9 PIECE RETROSPOT          3   \n",
            "1067370  581587      POST                          POSTAGE         1   \n",
            "\n",
            "                InvoiceDate  Price  Customer ID Country  \n",
            "1067366 2011-12-09 12:50:00   2.10      12680.0  France  \n",
            "1067367 2011-12-09 12:50:00   4.15      12680.0  France  \n",
            "1067368 2011-12-09 12:50:00   4.15      12680.0  France  \n",
            "1067369 2011-12-09 12:50:00   4.95      12680.0  France  \n",
            "1067370 2011-12-09 12:50:00  18.00      12680.0  France  \n"
          ]
        }
      ],
      "source": [
        "#Display last 5 rows\n",
        "print(df.tail())"
      ]
    },
    {
      "cell_type": "code",
      "execution_count": 5,
      "metadata": {
        "colab": {
          "base_uri": "https://localhost:8080/"
        },
        "id": "KsBtGJIxL-Pg",
        "outputId": "b4cfc303-d99f-48ef-b794-777d8f0b66b7"
      },
      "outputs": [
        {
          "name": "stdout",
          "output_type": "stream",
          "text": [
            "(1067371, 8)\n"
          ]
        }
      ],
      "source": [
        "#Display data shape\n",
        "print(df.shape)"
      ]
    },
    {
      "cell_type": "code",
      "execution_count": 6,
      "metadata": {
        "colab": {
          "base_uri": "https://localhost:8080/"
        },
        "id": "E8_1BcQcM5UW",
        "outputId": "addc9f28-b973-4401-bfe1-9b39e9d6c828"
      },
      "outputs": [
        {
          "name": "stdout",
          "output_type": "stream",
          "text": [
            "Index(['Invoice', 'StockCode', 'Description', 'Quantity', 'InvoiceDate',\n",
            "       'Price', 'Customer ID', 'Country'],\n",
            "      dtype='object')\n"
          ]
        }
      ],
      "source": [
        "#Display columns names\n",
        "print(df.columns)\n"
      ]
    },
    {
      "cell_type": "code",
      "execution_count": 7,
      "metadata": {
        "colab": {
          "base_uri": "https://localhost:8080/"
        },
        "id": "plimpFGsM8KI",
        "outputId": "63d2884a-1259-4fe0-83b9-328c19b2af04"
      },
      "outputs": [
        {
          "name": "stdout",
          "output_type": "stream",
          "text": [
            "Invoice                object\n",
            "StockCode              object\n",
            "Description            object\n",
            "Quantity                int64\n",
            "InvoiceDate    datetime64[ns]\n",
            "Price                 float64\n",
            "Customer ID           float64\n",
            "Country                object\n",
            "dtype: object\n"
          ]
        }
      ],
      "source": [
        "#Display columns datatype\n",
        "print(df.dtypes)"
      ]
    },
    {
      "cell_type": "code",
      "execution_count": 8,
      "metadata": {
        "colab": {
          "base_uri": "https://localhost:8080/"
        },
        "id": "1UQOwugHNBbC",
        "outputId": "3092ebea-8d53-4366-ff8b-29c4b94694b1"
      },
      "outputs": [
        {
          "name": "stdout",
          "output_type": "stream",
          "text": [
            "Invoice             0\n",
            "StockCode           0\n",
            "Description      4382\n",
            "Quantity            0\n",
            "InvoiceDate         0\n",
            "Price               0\n",
            "Customer ID    243007\n",
            "Country             0\n",
            "dtype: int64\n"
          ]
        }
      ],
      "source": [
        "#Display number of missing values in each column\n",
        "print(df.isnull().sum())"
      ]
    },
    {
      "cell_type": "code",
      "execution_count": 9,
      "metadata": {
        "colab": {
          "base_uri": "https://localhost:8080/"
        },
        "id": "yqJxlaphNKwr",
        "outputId": "8f34f7dd-94b8-438c-8d01-36e7b0883d7d"
      },
      "outputs": [
        {
          "name": "stdout",
          "output_type": "stream",
          "text": [
            "34335\n"
          ]
        }
      ],
      "source": [
        "#Display number of duplicates\n",
        "print(df.duplicated().sum())"
      ]
    },
    {
      "cell_type": "markdown",
      "metadata": {
        "id": "aFhmw76rOsDb"
      },
      "source": [
        "**info function** display important information in each column"
      ]
    },
    {
      "cell_type": "code",
      "execution_count": 10,
      "metadata": {
        "colab": {
          "base_uri": "https://localhost:8080/"
        },
        "id": "no8Bm-W3NSNK",
        "outputId": "df17ce03-5e8a-4f29-d72f-6106147d739b"
      },
      "outputs": [
        {
          "name": "stdout",
          "output_type": "stream",
          "text": [
            "<class 'pandas.core.frame.DataFrame'>\n",
            "RangeIndex: 1067371 entries, 0 to 1067370\n",
            "Data columns (total 8 columns):\n",
            " #   Column       Non-Null Count    Dtype         \n",
            "---  ------       --------------    -----         \n",
            " 0   Invoice      1067371 non-null  object        \n",
            " 1   StockCode    1067371 non-null  object        \n",
            " 2   Description  1062989 non-null  object        \n",
            " 3   Quantity     1067371 non-null  int64         \n",
            " 4   InvoiceDate  1067371 non-null  datetime64[ns]\n",
            " 5   Price        1067371 non-null  float64       \n",
            " 6   Customer ID  824364 non-null   float64       \n",
            " 7   Country      1067371 non-null  object        \n",
            "dtypes: datetime64[ns](1), float64(2), int64(1), object(4)\n",
            "memory usage: 65.1+ MB\n",
            "None\n"
          ]
        }
      ],
      "source": [
        "#Display some useful info about the data\n",
        "print(df.info())"
      ]
    },
    {
      "cell_type": "markdown",
      "metadata": {
        "id": "cR8N9OsaPGTX"
      },
      "source": [
        "**describe function** shows summary statistics, such as mean, median, and etcs for numerical columns."
      ]
    },
    {
      "cell_type": "code",
      "execution_count": 11,
      "metadata": {
        "colab": {
          "base_uri": "https://localhost:8080/"
        },
        "id": "yPC94wLUNV8a",
        "outputId": "9111d566-0b70-47d4-cbac-4292f32f457e"
      },
      "outputs": [
        {
          "name": "stdout",
          "output_type": "stream",
          "text": [
            "           Quantity         Price    Customer ID\n",
            "count  1.067371e+06  1.067371e+06  824364.000000\n",
            "mean   9.938898e+00  4.649388e+00   15324.638504\n",
            "std    1.727058e+02  1.235531e+02    1697.464450\n",
            "min   -8.099500e+04 -5.359436e+04   12346.000000\n",
            "25%    1.000000e+00  1.250000e+00   13975.000000\n",
            "50%    3.000000e+00  2.100000e+00   15255.000000\n",
            "75%    1.000000e+01  4.150000e+00   16797.000000\n",
            "max    8.099500e+04  3.897000e+04   18287.000000\n"
          ]
        }
      ],
      "source": [
        "#display statistical describtion about the data\n",
        "print(df.describe())"
      ]
    },
    {
      "cell_type": "markdown",
      "metadata": {
        "id": "63KWZCxuOI9k"
      },
      "source": [
        "**Observations:** There are problems in Quantity and Price columns there are negative values and this doesn't make sense."
      ]
    },
    {
      "cell_type": "code",
      "execution_count": 12,
      "metadata": {
        "colab": {
          "base_uri": "https://localhost:8080/"
        },
        "id": "SgaUgNoSNi_x",
        "outputId": "551d9c89-b675-4836-f787-732245024bf8"
      },
      "outputs": [
        {
          "data": {
            "image/png": "[encoded data removed]",
            "text/plain": [
              "<Figure size 1000x800 with 4 Axes>"
            ]
          },
          "metadata": {},
          "output_type": "display_data"
        }
      ],
      "source": [
        "#Display data distribution\n",
        "df.hist(figsize=(10,8));"
      ]
    },
    {
      "cell_type": "markdown",
      "metadata": {
        "id": "CA5KdtGteSUT"
      },
      "source": [
        "**Observations:** There is no oultielr in these columns"
      ]
    },
    {
      "cell_type": "code",
      "execution_count": 13,
      "metadata": {
        "colab": {
          "base_uri": "https://localhost:8080/"
        },
        "id": "sQwJ_UenDmih",
        "outputId": "6a2aac76-2dd9-4a30-9d9f-63c2f6248e92"
      },
      "outputs": [
        {
          "data": {
            "text/html": [
              "<div>\n",
              "<style scoped>\n",
              "    .dataframe tbody tr th:only-of-type {\n",
              "        vertical-align: middle;\n",
              "    }\n",
              "\n",
              "    .dataframe tbody tr th {\n",
              "        vertical-align: top;\n",
              "    }\n",
              "\n",
              "    .dataframe thead th {\n",
              "        text-align: right;\n",
              "    }\n",
              "</style>\n",
              "<table border=\"1\" class=\"dataframe\">\n",
              "  <thead>\n",
              "    <tr style=\"text-align: right;\">\n",
              "      <th></th>\n",
              "      <th>Invoice</th>\n",
              "      <th>StockCode</th>\n",
              "      <th>Description</th>\n",
              "      <th>Quantity</th>\n",
              "      <th>InvoiceDate</th>\n",
              "      <th>Price</th>\n",
              "      <th>Customer ID</th>\n",
              "      <th>Country</th>\n",
              "    </tr>\n",
              "  </thead>\n",
              "  <tbody>\n",
              "    <tr>\n",
              "      <th>0</th>\n",
              "      <td>489434</td>\n",
              "      <td>85048</td>\n",
              "      <td>15CM CHRISTMAS GLASS BALL 20 LIGHTS</td>\n",
              "      <td>12</td>\n",
              "      <td>2009-12-01 07:45:00</td>\n",
              "      <td>6.95</td>\n",
              "      <td>13085.0</td>\n",
              "      <td>United Kingdom</td>\n",
              "    </tr>\n",
              "    <tr>\n",
              "      <th>1</th>\n",
              "      <td>489434</td>\n",
              "      <td>79323P</td>\n",
              "      <td>PINK CHERRY LIGHTS</td>\n",
              "      <td>12</td>\n",
              "      <td>2009-12-01 07:45:00</td>\n",
              "      <td>6.75</td>\n",
              "      <td>13085.0</td>\n",
              "      <td>United Kingdom</td>\n",
              "    </tr>\n",
              "    <tr>\n",
              "      <th>2</th>\n",
              "      <td>489434</td>\n",
              "      <td>79323W</td>\n",
              "      <td>WHITE CHERRY LIGHTS</td>\n",
              "      <td>12</td>\n",
              "      <td>2009-12-01 07:45:00</td>\n",
              "      <td>6.75</td>\n",
              "      <td>13085.0</td>\n",
              "      <td>United Kingdom</td>\n",
              "    </tr>\n",
              "    <tr>\n",
              "      <th>3</th>\n",
              "      <td>489434</td>\n",
              "      <td>22041</td>\n",
              "      <td>RECORD FRAME 7\" SINGLE SIZE</td>\n",
              "      <td>48</td>\n",
              "      <td>2009-12-01 07:45:00</td>\n",
              "      <td>2.10</td>\n",
              "      <td>13085.0</td>\n",
              "      <td>United Kingdom</td>\n",
              "    </tr>\n",
              "    <tr>\n",
              "      <th>4</th>\n",
              "      <td>489434</td>\n",
              "      <td>21232</td>\n",
              "      <td>STRAWBERRY CERAMIC TRINKET BOX</td>\n",
              "      <td>24</td>\n",
              "      <td>2009-12-01 07:45:00</td>\n",
              "      <td>1.25</td>\n",
              "      <td>13085.0</td>\n",
              "      <td>United Kingdom</td>\n",
              "    </tr>\n",
              "  </tbody>\n",
              "</table>\n",
              "</div>"
            ],
            "text/plain": [
              "  Invoice StockCode                          Description  Quantity  \\\n",
              "0  489434     85048  15CM CHRISTMAS GLASS BALL 20 LIGHTS        12   \n",
              "1  489434    79323P                   PINK CHERRY LIGHTS        12   \n",
              "2  489434    79323W                  WHITE CHERRY LIGHTS        12   \n",
              "3  489434     22041         RECORD FRAME 7\" SINGLE SIZE         48   \n",
              "4  489434     21232       STRAWBERRY CERAMIC TRINKET BOX        24   \n",
              "\n",
              "          InvoiceDate  Price  Customer ID         Country  \n",
              "0 2009-12-01 07:45:00   6.95      13085.0  United Kingdom  \n",
              "1 2009-12-01 07:45:00   6.75      13085.0  United Kingdom  \n",
              "2 2009-12-01 07:45:00   6.75      13085.0  United Kingdom  \n",
              "3 2009-12-01 07:45:00   2.10      13085.0  United Kingdom  \n",
              "4 2009-12-01 07:45:00   1.25      13085.0  United Kingdom  "
            ]
          },
          "execution_count": 13,
          "metadata": {},
          "output_type": "execute_result"
        }
      ],
      "source": [
        "df.head()"
      ]
    },
    {
      "cell_type": "markdown",
      "metadata": {
        "id": "P8BR5ydyfANw"
      },
      "source": [
        "## Fix Data Problems:\n",
        "- Dealing with Missing values\n",
        "\n",
        "- Remove Description column and set null values in Customer ID\n",
        "\n",
        "- Removing duplicated rows\n",
        "\n",
        "- Replace invalid data in Quantity and Price columns\n",
        "\n",
        "- Cleaning Country column\n",
        "\n",
        "- Create new column to Split Invoice into cancel or not\n",
        "\n",
        "- Check duplicates\n"
      ]
    },
    {
      "cell_type": "code",
      "execution_count": 80,
      "metadata": {
        "id": "0JTFW3Xx-gER"
      },
      "outputs": [],
      "source": [
        "#Copy the dataframe\n",
        "dfc = df.copy()"
      ]
    },
    {
      "cell_type": "markdown",
      "metadata": {
        "id": "wCP5pom53zBP"
      },
      "source": [
        "### Dealing with Missing values"
      ]
    },
    {
      "cell_type": "code",
      "execution_count": 81,
      "metadata": {
        "colab": {
          "base_uri": "https://localhost:8080/"
        },
        "id": "Jq9THcM5QdNh",
        "outputId": "c779fff9-d893-4b6c-d307-29300741a1e5"
      },
      "outputs": [
        {
          "name": "stdout",
          "output_type": "stream",
          "text": [
            "Invoice             0\n",
            "StockCode           0\n",
            "Description      4382\n",
            "Quantity            0\n",
            "InvoiceDate         0\n",
            "Price               0\n",
            "Customer ID    243007\n",
            "Country             0\n",
            "dtype: int64\n"
          ]
        }
      ],
      "source": [
        "#Display number of missing values in each column\n",
        "print(dfc.isnull().sum())"
      ]
    },
    {
      "cell_type": "code",
      "execution_count": 82,
      "metadata": {
        "colab": {
          "base_uri": "https://localhost:8080/"
        },
        "id": "bFteW_CAPTK2",
        "outputId": "7b823a54-e8de-4eb9-ef29-56df5389bdaf"
      },
      "outputs": [
        {
          "data": {
            "text/html": [
              "<div>\n",
              "<style scoped>\n",
              "    .dataframe tbody tr th:only-of-type {\n",
              "        vertical-align: middle;\n",
              "    }\n",
              "\n",
              "    .dataframe tbody tr th {\n",
              "        vertical-align: top;\n",
              "    }\n",
              "\n",
              "    .dataframe thead th {\n",
              "        text-align: right;\n",
              "    }\n",
              "</style>\n",
              "<table border=\"1\" class=\"dataframe\">\n",
              "  <thead>\n",
              "    <tr style=\"text-align: right;\">\n",
              "      <th></th>\n",
              "      <th>Invoice</th>\n",
              "      <th>StockCode</th>\n",
              "      <th>Description</th>\n",
              "      <th>Quantity</th>\n",
              "      <th>InvoiceDate</th>\n",
              "      <th>Price</th>\n",
              "      <th>Customer ID</th>\n",
              "      <th>Country</th>\n",
              "    </tr>\n",
              "  </thead>\n",
              "  <tbody>\n",
              "    <tr>\n",
              "      <th>470</th>\n",
              "      <td>489521</td>\n",
              "      <td>21646</td>\n",
              "      <td>NaN</td>\n",
              "      <td>-50</td>\n",
              "      <td>2009-12-01 11:44:00</td>\n",
              "      <td>0.0</td>\n",
              "      <td>NaN</td>\n",
              "      <td>United Kingdom</td>\n",
              "    </tr>\n",
              "    <tr>\n",
              "      <th>3114</th>\n",
              "      <td>489655</td>\n",
              "      <td>20683</td>\n",
              "      <td>NaN</td>\n",
              "      <td>-44</td>\n",
              "      <td>2009-12-01 17:26:00</td>\n",
              "      <td>0.0</td>\n",
              "      <td>NaN</td>\n",
              "      <td>United Kingdom</td>\n",
              "    </tr>\n",
              "    <tr>\n",
              "      <th>3161</th>\n",
              "      <td>489659</td>\n",
              "      <td>21350</td>\n",
              "      <td>NaN</td>\n",
              "      <td>230</td>\n",
              "      <td>2009-12-01 17:39:00</td>\n",
              "      <td>0.0</td>\n",
              "      <td>NaN</td>\n",
              "      <td>United Kingdom</td>\n",
              "    </tr>\n",
              "    <tr>\n",
              "      <th>3731</th>\n",
              "      <td>489781</td>\n",
              "      <td>84292</td>\n",
              "      <td>NaN</td>\n",
              "      <td>17</td>\n",
              "      <td>2009-12-02 11:45:00</td>\n",
              "      <td>0.0</td>\n",
              "      <td>NaN</td>\n",
              "      <td>United Kingdom</td>\n",
              "    </tr>\n",
              "    <tr>\n",
              "      <th>4296</th>\n",
              "      <td>489806</td>\n",
              "      <td>18010</td>\n",
              "      <td>NaN</td>\n",
              "      <td>-770</td>\n",
              "      <td>2009-12-02 12:42:00</td>\n",
              "      <td>0.0</td>\n",
              "      <td>NaN</td>\n",
              "      <td>United Kingdom</td>\n",
              "    </tr>\n",
              "    <tr>\n",
              "      <th>...</th>\n",
              "      <td>...</td>\n",
              "      <td>...</td>\n",
              "      <td>...</td>\n",
              "      <td>...</td>\n",
              "      <td>...</td>\n",
              "      <td>...</td>\n",
              "      <td>...</td>\n",
              "      <td>...</td>\n",
              "    </tr>\n",
              "    <tr>\n",
              "      <th>1060783</th>\n",
              "      <td>581199</td>\n",
              "      <td>84581</td>\n",
              "      <td>NaN</td>\n",
              "      <td>-2</td>\n",
              "      <td>2011-12-07 18:26:00</td>\n",
              "      <td>0.0</td>\n",
              "      <td>NaN</td>\n",
              "      <td>United Kingdom</td>\n",
              "    </tr>\n",
              "    <tr>\n",
              "      <th>1060787</th>\n",
              "      <td>581203</td>\n",
              "      <td>23406</td>\n",
              "      <td>NaN</td>\n",
              "      <td>15</td>\n",
              "      <td>2011-12-07 18:31:00</td>\n",
              "      <td>0.0</td>\n",
              "      <td>NaN</td>\n",
              "      <td>United Kingdom</td>\n",
              "    </tr>\n",
              "    <tr>\n",
              "      <th>1060793</th>\n",
              "      <td>581209</td>\n",
              "      <td>21620</td>\n",
              "      <td>NaN</td>\n",
              "      <td>6</td>\n",
              "      <td>2011-12-07 18:35:00</td>\n",
              "      <td>0.0</td>\n",
              "      <td>NaN</td>\n",
              "      <td>United Kingdom</td>\n",
              "    </tr>\n",
              "    <tr>\n",
              "      <th>1062442</th>\n",
              "      <td>581234</td>\n",
              "      <td>72817</td>\n",
              "      <td>NaN</td>\n",
              "      <td>27</td>\n",
              "      <td>2011-12-08 10:33:00</td>\n",
              "      <td>0.0</td>\n",
              "      <td>NaN</td>\n",
              "      <td>United Kingdom</td>\n",
              "    </tr>\n",
              "    <tr>\n",
              "      <th>1064015</th>\n",
              "      <td>581408</td>\n",
              "      <td>85175</td>\n",
              "      <td>NaN</td>\n",
              "      <td>20</td>\n",
              "      <td>2011-12-08 14:06:00</td>\n",
              "      <td>0.0</td>\n",
              "      <td>NaN</td>\n",
              "      <td>United Kingdom</td>\n",
              "    </tr>\n",
              "  </tbody>\n",
              "</table>\n",
              "<p>4382 rows × 8 columns</p>\n",
              "</div>"
            ],
            "text/plain": [
              "        Invoice StockCode Description  Quantity         InvoiceDate  Price  \\\n",
              "470      489521     21646         NaN       -50 2009-12-01 11:44:00    0.0   \n",
              "3114     489655     20683         NaN       -44 2009-12-01 17:26:00    0.0   \n",
              "3161     489659     21350         NaN       230 2009-12-01 17:39:00    0.0   \n",
              "3731     489781     84292         NaN        17 2009-12-02 11:45:00    0.0   \n",
              "4296     489806     18010         NaN      -770 2009-12-02 12:42:00    0.0   \n",
              "...         ...       ...         ...       ...                 ...    ...   \n",
              "1060783  581199     84581         NaN        -2 2011-12-07 18:26:00    0.0   \n",
              "1060787  581203     23406         NaN        15 2011-12-07 18:31:00    0.0   \n",
              "1060793  581209     21620         NaN         6 2011-12-07 18:35:00    0.0   \n",
              "1062442  581234     72817         NaN        27 2011-12-08 10:33:00    0.0   \n",
              "1064015  581408     85175         NaN        20 2011-12-08 14:06:00    0.0   \n",
              "\n",
              "         Customer ID         Country  \n",
              "470              NaN  United Kingdom  \n",
              "3114             NaN  United Kingdom  \n",
              "3161             NaN  United Kingdom  \n",
              "3731             NaN  United Kingdom  \n",
              "4296             NaN  United Kingdom  \n",
              "...              ...             ...  \n",
              "1060783          NaN  United Kingdom  \n",
              "1060787          NaN  United Kingdom  \n",
              "1060793          NaN  United Kingdom  \n",
              "1062442          NaN  United Kingdom  \n",
              "1064015          NaN  United Kingdom  \n",
              "\n",
              "[4382 rows x 8 columns]"
            ]
          },
          "execution_count": 82,
          "metadata": {},
          "output_type": "execute_result"
        }
      ],
      "source": [
        "# Display nulls in Description column\n",
        "dfc[dfc['Description'].isnull()]"
      ]
    },
    {
      "cell_type": "code",
      "execution_count": null,
      "metadata": {},
      "outputs": [],
      "source": []
    },
    {
      "cell_type": "markdown",
      "metadata": {},
      "source": [
        "### Remove Description column and set null values in Customer ID"
      ]
    },
    {
      "cell_type": "code",
      "execution_count": 83,
      "metadata": {},
      "outputs": [],
      "source": [
        "# Remove the Description column because some StockCodes have many different descriptions.\n",
        "dfc.drop(['Description'], axis = 1, inplace = True)"
      ]
    },
    {
      "cell_type": "code",
      "execution_count": 84,
      "metadata": {
        "id": "BJlpMpcCSrsF"
      },
      "outputs": [],
      "source": [
        "# Set value 11111.0 into NaN Customer ID as a visitor\n",
        "col_name ='Customer ID'\n",
        "dfc.loc[dfc[col_name].isnull(), col_name] = float(10000.0)"
      ]
    },
    {
      "cell_type": "code",
      "execution_count": 85,
      "metadata": {
        "id": "u-OrYnARQdUe"
      },
      "outputs": [],
      "source": [
        "#Drop all nulls\n",
        "dfc.dropna(inplace = True)"
      ]
    },
    {
      "cell_type": "code",
      "execution_count": 86,
      "metadata": {
        "colab": {
          "base_uri": "https://localhost:8080/"
        },
        "id": "QRMq3TELPvgK",
        "outputId": "9f43010c-dc6f-4e4a-a859-f1f68481595f"
      },
      "outputs": [
        {
          "data": {
            "text/plain": [
              "0"
            ]
          },
          "execution_count": 86,
          "metadata": {},
          "output_type": "execute_result"
        }
      ],
      "source": [
        "#Check nulls\n",
        "dfc['Customer ID'].isnull().sum()"
      ]
    },
    {
      "cell_type": "markdown",
      "metadata": {
        "id": "vLHjUdewQaAm"
      },
      "source": [
        "### Removing duplicated rows"
      ]
    },
    {
      "cell_type": "code",
      "execution_count": 87,
      "metadata": {
        "id": "9AzLia-jQBOt"
      },
      "outputs": [
        {
          "name": "stdout",
          "output_type": "stream",
          "text": [
            "Number of duplicates: 34337\n"
          ]
        }
      ],
      "source": [
        "print(f'Number of duplicates: {dfc.duplicated().sum()}')\n",
        "dfc.drop_duplicates(inplace= True)"
      ]
    },
    {
      "cell_type": "code",
      "execution_count": 88,
      "metadata": {
        "colab": {
          "base_uri": "https://localhost:8080/"
        },
        "id": "kixkv4sqQpQ7",
        "outputId": "713f64a4-7f14-4e37-fffb-95b8f1be6b8c"
      },
      "outputs": [
        {
          "data": {
            "text/html": [
              "<div>\n",
              "<style scoped>\n",
              "    .dataframe tbody tr th:only-of-type {\n",
              "        vertical-align: middle;\n",
              "    }\n",
              "\n",
              "    .dataframe tbody tr th {\n",
              "        vertical-align: top;\n",
              "    }\n",
              "\n",
              "    .dataframe thead th {\n",
              "        text-align: right;\n",
              "    }\n",
              "</style>\n",
              "<table border=\"1\" class=\"dataframe\">\n",
              "  <thead>\n",
              "    <tr style=\"text-align: right;\">\n",
              "      <th></th>\n",
              "      <th>Invoice</th>\n",
              "      <th>StockCode</th>\n",
              "      <th>Quantity</th>\n",
              "      <th>InvoiceDate</th>\n",
              "      <th>Price</th>\n",
              "      <th>Customer ID</th>\n",
              "      <th>Country</th>\n",
              "    </tr>\n",
              "  </thead>\n",
              "  <tbody>\n",
              "    <tr>\n",
              "      <th>0</th>\n",
              "      <td>489434</td>\n",
              "      <td>85048</td>\n",
              "      <td>12</td>\n",
              "      <td>2009-12-01 07:45:00</td>\n",
              "      <td>6.95</td>\n",
              "      <td>13085.0</td>\n",
              "      <td>United Kingdom</td>\n",
              "    </tr>\n",
              "    <tr>\n",
              "      <th>1</th>\n",
              "      <td>489434</td>\n",
              "      <td>79323P</td>\n",
              "      <td>12</td>\n",
              "      <td>2009-12-01 07:45:00</td>\n",
              "      <td>6.75</td>\n",
              "      <td>13085.0</td>\n",
              "      <td>United Kingdom</td>\n",
              "    </tr>\n",
              "    <tr>\n",
              "      <th>2</th>\n",
              "      <td>489434</td>\n",
              "      <td>79323W</td>\n",
              "      <td>12</td>\n",
              "      <td>2009-12-01 07:45:00</td>\n",
              "      <td>6.75</td>\n",
              "      <td>13085.0</td>\n",
              "      <td>United Kingdom</td>\n",
              "    </tr>\n",
              "    <tr>\n",
              "      <th>3</th>\n",
              "      <td>489434</td>\n",
              "      <td>22041</td>\n",
              "      <td>48</td>\n",
              "      <td>2009-12-01 07:45:00</td>\n",
              "      <td>2.10</td>\n",
              "      <td>13085.0</td>\n",
              "      <td>United Kingdom</td>\n",
              "    </tr>\n",
              "    <tr>\n",
              "      <th>4</th>\n",
              "      <td>489434</td>\n",
              "      <td>21232</td>\n",
              "      <td>24</td>\n",
              "      <td>2009-12-01 07:45:00</td>\n",
              "      <td>1.25</td>\n",
              "      <td>13085.0</td>\n",
              "      <td>United Kingdom</td>\n",
              "    </tr>\n",
              "    <tr>\n",
              "      <th>...</th>\n",
              "      <td>...</td>\n",
              "      <td>...</td>\n",
              "      <td>...</td>\n",
              "      <td>...</td>\n",
              "      <td>...</td>\n",
              "      <td>...</td>\n",
              "      <td>...</td>\n",
              "    </tr>\n",
              "    <tr>\n",
              "      <th>1067366</th>\n",
              "      <td>581587</td>\n",
              "      <td>22899</td>\n",
              "      <td>6</td>\n",
              "      <td>2011-12-09 12:50:00</td>\n",
              "      <td>2.10</td>\n",
              "      <td>12680.0</td>\n",
              "      <td>France</td>\n",
              "    </tr>\n",
              "    <tr>\n",
              "      <th>1067367</th>\n",
              "      <td>581587</td>\n",
              "      <td>23254</td>\n",
              "      <td>4</td>\n",
              "      <td>2011-12-09 12:50:00</td>\n",
              "      <td>4.15</td>\n",
              "      <td>12680.0</td>\n",
              "      <td>France</td>\n",
              "    </tr>\n",
              "    <tr>\n",
              "      <th>1067368</th>\n",
              "      <td>581587</td>\n",
              "      <td>23255</td>\n",
              "      <td>4</td>\n",
              "      <td>2011-12-09 12:50:00</td>\n",
              "      <td>4.15</td>\n",
              "      <td>12680.0</td>\n",
              "      <td>France</td>\n",
              "    </tr>\n",
              "    <tr>\n",
              "      <th>1067369</th>\n",
              "      <td>581587</td>\n",
              "      <td>22138</td>\n",
              "      <td>3</td>\n",
              "      <td>2011-12-09 12:50:00</td>\n",
              "      <td>4.95</td>\n",
              "      <td>12680.0</td>\n",
              "      <td>France</td>\n",
              "    </tr>\n",
              "    <tr>\n",
              "      <th>1067370</th>\n",
              "      <td>581587</td>\n",
              "      <td>POST</td>\n",
              "      <td>1</td>\n",
              "      <td>2011-12-09 12:50:00</td>\n",
              "      <td>18.00</td>\n",
              "      <td>12680.0</td>\n",
              "      <td>France</td>\n",
              "    </tr>\n",
              "  </tbody>\n",
              "</table>\n",
              "<p>1033034 rows × 7 columns</p>\n",
              "</div>"
            ],
            "text/plain": [
              "        Invoice StockCode  Quantity         InvoiceDate  Price  Customer ID  \\\n",
              "0        489434     85048        12 2009-12-01 07:45:00   6.95      13085.0   \n",
              "1        489434    79323P        12 2009-12-01 07:45:00   6.75      13085.0   \n",
              "2        489434    79323W        12 2009-12-01 07:45:00   6.75      13085.0   \n",
              "3        489434     22041        48 2009-12-01 07:45:00   2.10      13085.0   \n",
              "4        489434     21232        24 2009-12-01 07:45:00   1.25      13085.0   \n",
              "...         ...       ...       ...                 ...    ...          ...   \n",
              "1067366  581587     22899         6 2011-12-09 12:50:00   2.10      12680.0   \n",
              "1067367  581587     23254         4 2011-12-09 12:50:00   4.15      12680.0   \n",
              "1067368  581587     23255         4 2011-12-09 12:50:00   4.15      12680.0   \n",
              "1067369  581587     22138         3 2011-12-09 12:50:00   4.95      12680.0   \n",
              "1067370  581587      POST         1 2011-12-09 12:50:00  18.00      12680.0   \n",
              "\n",
              "                Country  \n",
              "0        United Kingdom  \n",
              "1        United Kingdom  \n",
              "2        United Kingdom  \n",
              "3        United Kingdom  \n",
              "4        United Kingdom  \n",
              "...                 ...  \n",
              "1067366          France  \n",
              "1067367          France  \n",
              "1067368          France  \n",
              "1067369          France  \n",
              "1067370          France  \n",
              "\n",
              "[1033034 rows x 7 columns]"
            ]
          },
          "execution_count": 88,
          "metadata": {},
          "output_type": "execute_result"
        }
      ],
      "source": [
        "dfc"
      ]
    },
    {
      "cell_type": "markdown",
      "metadata": {
        "id": "19zalsbPQ6DG"
      },
      "source": [
        "### Replace invalid data in Quantity and Price columns"
      ]
    },
    {
      "cell_type": "code",
      "execution_count": 89,
      "metadata": {
        "id": "KFAf95fmjtgF"
      },
      "outputs": [],
      "source": [
        "#Set all Quantities less than 1 equale 0\n",
        "col_name ='Quantity'\n",
        "dfc.loc[df[col_name] < 1, col_name] = 0\n",
        "\n",
        "#Set all Price less than 0 equale 0\n",
        "col_name ='Price'\n",
        "dfc.loc[df[col_name] < 0.0, col_name] = 0.0\n"
      ]
    },
    {
      "cell_type": "markdown",
      "metadata": {
        "id": "Ph0B9RuEHdCU"
      },
      "source": [
        "### Cleaning Country column"
      ]
    },
    {
      "cell_type": "code",
      "execution_count": 90,
      "metadata": {
        "colab": {
          "base_uri": "https://localhost:8080/"
        },
        "id": "1Muqt7spHlqg",
        "outputId": "24995f9c-97d7-4872-c5b2-121f0d058cd1"
      },
      "outputs": [
        {
          "data": {
            "text/plain": [
              "United Kingdom          948319\n",
              "EIRE                     17667\n",
              "Germany                  17339\n",
              "France                   14025\n",
              "Netherlands               5137\n",
              "Spain                     3754\n",
              "Switzerland               3175\n",
              "Belgium                   3110\n",
              "Portugal                  2528\n",
              "Australia                 1890\n",
              "Channel Islands           1646\n",
              "Italy                     1507\n",
              "Sweden                    1362\n",
              "Norway                    1308\n",
              "Cyprus                    1157\n",
              "Finland                   1049\n",
              "Austria                    938\n",
              "Denmark                    797\n",
              "Unspecified                752\n",
              "Greece                     663\n",
              "Japan                      565\n",
              "USA                        535\n",
              "Poland                     527\n",
              "United Arab Emirates       500\n",
              "Israel                     368\n",
              "Hong Kong                  360\n",
              "Singapore                  346\n",
              "Malta                      299\n",
              "Canada                     228\n",
              "Iceland                    222\n",
              "RSA                        169\n",
              "Lithuania                  154\n",
              "Bahrain                    126\n",
              "Brazil                      94\n",
              "Thailand                    76\n",
              "Korea                       63\n",
              "European Community          61\n",
              "Lebanon                     58\n",
              "West Indies                 54\n",
              "Bermuda                     34\n",
              "Nigeria                     32\n",
              "Czech Republic              30\n",
              "Saudi Arabia                10\n",
              "Name: Country, dtype: int64"
            ]
          },
          "execution_count": 90,
          "metadata": {},
          "output_type": "execute_result"
        }
      ],
      "source": [
        "dfc['Country'].value_counts()"
      ]
    },
    {
      "cell_type": "markdown",
      "metadata": {
        "id": "uEjUMRFUIFcH"
      },
      "source": [
        "The column data is cleaned"
      ]
    },
    {
      "cell_type": "code",
      "execution_count": null,
      "metadata": {
        "id": "9UqYdKdDHlwp"
      },
      "outputs": [],
      "source": []
    },
    {
      "cell_type": "markdown",
      "metadata": {
        "id": "4mbMfyWft8wO"
      },
      "source": [
        "### Create new column to Split Invoice into cancel or not"
      ]
    },
    {
      "cell_type": "code",
      "execution_count": 91,
      "metadata": {
        "id": "tVauLca1Ff9j"
      },
      "outputs": [],
      "source": [
        "# Change invoice type into string\n",
        "dfc['Invoice'] = dfc['Invoice'].astype(str)"
      ]
    },
    {
      "cell_type": "code",
      "execution_count": 92,
      "metadata": {
        "id": "CsAkkP0Rt-5c"
      },
      "outputs": [],
      "source": [
        "# def cleaning_cancelled(row):\n",
        "#     res = row['Invoice'][0]   #The first character in invoice row\n",
        "#     char_res = 0    #Not cancelled invoice\n",
        "#     if(res == 'C' or res == 'c'):\n",
        "#       char_res = 1    #Cancelled invoice\n",
        "#       # row['Invoice'].replace('^C', '')\n",
        "#       res_row = row['Invoice'].replace(res, '')\n",
        "#       print(res_row)\n",
        "#     return char_res\n",
        "\n",
        "# dfc['Cancelled_Invoice'] = dfc.apply(cleaning_cancelled, axis=1)"
      ]
    },
    {
      "cell_type": "code",
      "execution_count": 93,
      "metadata": {
        "id": "Y6gmDX37QpYA"
      },
      "outputs": [],
      "source": [
        "def cleaning_cancelled(row):\n",
        "    res = row[0]   #The first character in invoice row\n",
        "    char_res = 0    #Not cancelled invoice\n",
        "    if(res == 'C' or res == 'c'):\n",
        "      char_res = 1    #Cancelled invoice\n",
        "      row.replace(res, '')  #Remove all First C\n",
        "    #   print(row.replace(res, ''))\n",
        "    return char_res\n",
        "\n",
        "dfc['Cancelled_Invoice'] = dfc['Invoice'].apply(lambda row: cleaning_cancelled(row))\n"
      ]
    },
    {
      "cell_type": "code",
      "execution_count": 94,
      "metadata": {
        "colab": {
          "base_uri": "https://localhost:8080/"
        },
        "id": "JYyEZyTEt-9A",
        "outputId": "6f8ad72f-1427-429f-cdcb-313ba72e5266"
      },
      "outputs": [
        {
          "data": {
            "text/plain": [
              "0    1013930\n",
              "1      19104\n",
              "Name: Cancelled_Invoice, dtype: int64"
            ]
          },
          "execution_count": 94,
          "metadata": {},
          "output_type": "execute_result"
        }
      ],
      "source": [
        "dfc['Cancelled_Invoice'].value_counts()"
      ]
    },
    {
      "cell_type": "markdown",
      "metadata": {
        "id": "nNVbaKsiK2cz"
      },
      "source": [
        "### Check duplicates"
      ]
    },
    {
      "cell_type": "code",
      "execution_count": 95,
      "metadata": {},
      "outputs": [
        {
          "name": "stdout",
          "output_type": "stream",
          "text": [
            "Number of duplicates: 63\n"
          ]
        }
      ],
      "source": [
        "# Check duplicated rows\n",
        "print(f'Number of duplicates: {dfc.duplicated().sum()}')\n",
        "dfc.drop_duplicates(inplace = True)\n"
      ]
    },
    {
      "cell_type": "markdown",
      "metadata": {
        "id": "Vn0V6i6ftaY6"
      },
      "source": [
        "## Create new features\n"
      ]
    },
    {
      "cell_type": "code",
      "execution_count": 31,
      "metadata": {
        "id": "VUkRtWcrDcnY"
      },
      "outputs": [],
      "source": [
        "#Convert invoiceDate into time and date\n",
        "dfc['invoice_date'] = [d.date() for d in dfc['InvoiceDate']]\n",
        "dfc['invoice_time'] = [d.time() for d in dfc['InvoiceDate']]\n"
      ]
    },
    {
      "cell_type": "code",
      "execution_count": 32,
      "metadata": {
        "id": "ignbIAmpFTGe"
      },
      "outputs": [],
      "source": [
        "# Separate the date into year, month, and day\n",
        "# Convert the date column into a DateTime object\n",
        "dfc['invoice_date'] = pd.to_datetime(dfc['invoice_date'])\n",
        "\n",
        "# Extract the day, month, and year components\n",
        "dfc['Invoice_day'] = dfc['invoice_date'].dt.day\n",
        "dfc['Invoice_month'] = dfc['invoice_date'].dt.month\n",
        "dfc['Invoice_year'] = dfc['invoice_date'].dt.year"
      ]
    },
    {
      "cell_type": "code",
      "execution_count": 33,
      "metadata": {
        "colab": {
          "base_uri": "https://localhost:8080/",
          "height": 310
        },
        "id": "KuPrc8ETENkD",
        "outputId": "edb1f40b-c822-415a-b945-2344a8bcad5e"
      },
      "outputs": [
        {
          "data": {
            "text/html": [
              "<div>\n",
              "<style scoped>\n",
              "    .dataframe tbody tr th:only-of-type {\n",
              "        vertical-align: middle;\n",
              "    }\n",
              "\n",
              "    .dataframe tbody tr th {\n",
              "        vertical-align: top;\n",
              "    }\n",
              "\n",
              "    .dataframe thead th {\n",
              "        text-align: right;\n",
              "    }\n",
              "</style>\n",
              "<table border=\"1\" class=\"dataframe\">\n",
              "  <thead>\n",
              "    <tr style=\"text-align: right;\">\n",
              "      <th></th>\n",
              "      <th>Invoice</th>\n",
              "      <th>StockCode</th>\n",
              "      <th>Quantity</th>\n",
              "      <th>InvoiceDate</th>\n",
              "      <th>Price</th>\n",
              "      <th>Customer ID</th>\n",
              "      <th>Country</th>\n",
              "      <th>Cancelled_Invoice</th>\n",
              "      <th>invoice_date</th>\n",
              "      <th>invoice_time</th>\n",
              "      <th>Invoice_day</th>\n",
              "      <th>Invoice_month</th>\n",
              "      <th>Invoice_year</th>\n",
              "    </tr>\n",
              "  </thead>\n",
              "  <tbody>\n",
              "    <tr>\n",
              "      <th>0</th>\n",
              "      <td>489434</td>\n",
              "      <td>85048</td>\n",
              "      <td>12</td>\n",
              "      <td>2009-12-01 07:45:00</td>\n",
              "      <td>6.95</td>\n",
              "      <td>13085.0</td>\n",
              "      <td>United Kingdom</td>\n",
              "      <td>0</td>\n",
              "      <td>2009-12-01</td>\n",
              "      <td>07:45:00</td>\n",
              "      <td>1</td>\n",
              "      <td>12</td>\n",
              "      <td>2009</td>\n",
              "    </tr>\n",
              "    <tr>\n",
              "      <th>1</th>\n",
              "      <td>489434</td>\n",
              "      <td>79323P</td>\n",
              "      <td>12</td>\n",
              "      <td>2009-12-01 07:45:00</td>\n",
              "      <td>6.75</td>\n",
              "      <td>13085.0</td>\n",
              "      <td>United Kingdom</td>\n",
              "      <td>0</td>\n",
              "      <td>2009-12-01</td>\n",
              "      <td>07:45:00</td>\n",
              "      <td>1</td>\n",
              "      <td>12</td>\n",
              "      <td>2009</td>\n",
              "    </tr>\n",
              "    <tr>\n",
              "      <th>2</th>\n",
              "      <td>489434</td>\n",
              "      <td>79323W</td>\n",
              "      <td>12</td>\n",
              "      <td>2009-12-01 07:45:00</td>\n",
              "      <td>6.75</td>\n",
              "      <td>13085.0</td>\n",
              "      <td>United Kingdom</td>\n",
              "      <td>0</td>\n",
              "      <td>2009-12-01</td>\n",
              "      <td>07:45:00</td>\n",
              "      <td>1</td>\n",
              "      <td>12</td>\n",
              "      <td>2009</td>\n",
              "    </tr>\n",
              "    <tr>\n",
              "      <th>3</th>\n",
              "      <td>489434</td>\n",
              "      <td>22041</td>\n",
              "      <td>48</td>\n",
              "      <td>2009-12-01 07:45:00</td>\n",
              "      <td>2.10</td>\n",
              "      <td>13085.0</td>\n",
              "      <td>United Kingdom</td>\n",
              "      <td>0</td>\n",
              "      <td>2009-12-01</td>\n",
              "      <td>07:45:00</td>\n",
              "      <td>1</td>\n",
              "      <td>12</td>\n",
              "      <td>2009</td>\n",
              "    </tr>\n",
              "    <tr>\n",
              "      <th>4</th>\n",
              "      <td>489434</td>\n",
              "      <td>21232</td>\n",
              "      <td>24</td>\n",
              "      <td>2009-12-01 07:45:00</td>\n",
              "      <td>1.25</td>\n",
              "      <td>13085.0</td>\n",
              "      <td>United Kingdom</td>\n",
              "      <td>0</td>\n",
              "      <td>2009-12-01</td>\n",
              "      <td>07:45:00</td>\n",
              "      <td>1</td>\n",
              "      <td>12</td>\n",
              "      <td>2009</td>\n",
              "    </tr>\n",
              "  </tbody>\n",
              "</table>\n",
              "</div>"
            ],
            "text/plain": [
              "  Invoice StockCode  Quantity         InvoiceDate  Price  Customer ID  \\\n",
              "0  489434     85048        12 2009-12-01 07:45:00   6.95      13085.0   \n",
              "1  489434    79323P        12 2009-12-01 07:45:00   6.75      13085.0   \n",
              "2  489434    79323W        12 2009-12-01 07:45:00   6.75      13085.0   \n",
              "3  489434     22041        48 2009-12-01 07:45:00   2.10      13085.0   \n",
              "4  489434     21232        24 2009-12-01 07:45:00   1.25      13085.0   \n",
              "\n",
              "          Country  Cancelled_Invoice invoice_date invoice_time  Invoice_day  \\\n",
              "0  United Kingdom                  0   2009-12-01     07:45:00            1   \n",
              "1  United Kingdom                  0   2009-12-01     07:45:00            1   \n",
              "2  United Kingdom                  0   2009-12-01     07:45:00            1   \n",
              "3  United Kingdom                  0   2009-12-01     07:45:00            1   \n",
              "4  United Kingdom                  0   2009-12-01     07:45:00            1   \n",
              "\n",
              "   Invoice_month  Invoice_year  \n",
              "0             12          2009  \n",
              "1             12          2009  \n",
              "2             12          2009  \n",
              "3             12          2009  \n",
              "4             12          2009  "
            ]
          },
          "execution_count": 33,
          "metadata": {},
          "output_type": "execute_result"
        }
      ],
      "source": [
        "dfc.head()"
      ]
    },
    {
      "cell_type": "code",
      "execution_count": 34,
      "metadata": {
        "colab": {
          "base_uri": "https://localhost:8080/"
        },
        "id": "hSuyn-tvwXUg",
        "outputId": "ab998ad8-9fca-4cb1-b2dd-2f83a294438e"
      },
      "outputs": [
        {
          "data": {
            "text/plain": [
              "Index(['Invoice', 'StockCode', 'Quantity', 'InvoiceDate', 'Price',\n",
              "       'Customer ID', 'Country', 'Cancelled_Invoice', 'invoice_date',\n",
              "       'invoice_time', 'Invoice_day', 'Invoice_month', 'Invoice_year',\n",
              "       'Total_price_item'],\n",
              "      dtype='object')"
            ]
          },
          "execution_count": 34,
          "metadata": {},
          "output_type": "execute_result"
        }
      ],
      "source": [
        "#Total price for each item\n",
        "dfc['Total_price_item'] = dfc['Quantity'] * dfc['Price']\n",
        "dfc.columns"
      ]
    },
    {
      "cell_type": "code",
      "execution_count": 35,
      "metadata": {
        "colab": {
          "base_uri": "https://localhost:8080/",
          "height": 423
        },
        "id": "cy_XFQ6FtlNU",
        "outputId": "319f318e-f02d-48de-ac9b-9c368023a101"
      },
      "outputs": [
        {
          "name": "stdout",
          "output_type": "stream",
          "text": [
            "       Customer ID  Invoice_day  Total_price_item\n",
            "0          10000.0            1          72758.47\n",
            "1          10000.0            2          75267.81\n",
            "2          10000.0            3          70034.89\n",
            "3          10000.0            4          92352.24\n",
            "4          10000.0            5         106724.36\n",
            "...            ...          ...               ...\n",
            "29842      18287.0           12           1001.32\n",
            "29843      18287.0           17           1071.61\n",
            "29844      18287.0           21            892.60\n",
            "29845      18287.0           22           1146.78\n",
            "29846      18287.0           28             70.68\n",
            "\n",
            "[29847 rows x 3 columns]\n",
            "Number of duplicated in total_spend_each_cus_day: 0\n"
          ]
        }
      ],
      "source": [
        "#Total price for each customer\n",
        "total_spend_each_cus_day = dfc.groupby(['Customer ID', 'Invoice_day'], as_index = False)['Total_price_item'].sum()\n",
        "print(total_spend_each_cus_day)\n",
        "\n",
        "# Check duplicates\n",
        "print('Number of duplicated in total_spend_each_cus_day:', total_spend_each_cus_day.duplicated().sum())"
      ]
    },
    {
      "cell_type": "code",
      "execution_count": 39,
      "metadata": {},
      "outputs": [],
      "source": [
        "# sns.scatterplot(total_spend_each_cus_day, x = 'Customer ID', y = 'Total_price_item', hue = 'Invoice_day')"
      ]
    },
    {
      "cell_type": "code",
      "execution_count": 40,
      "metadata": {
        "colab": {
          "base_uri": "https://localhost:8080/",
          "height": 423
        },
        "id": "LzjPeZOetlGI",
        "outputId": "bc3daf55-4cd6-4e4b-bfab-1afbbcbea8cf"
      },
      "outputs": [
        {
          "name": "stdout",
          "output_type": "stream",
          "text": [
            "      Customer ID  Invoice_year  Invoice\n",
            "0         10000.0          2009      430\n",
            "1         10000.0          2010     4929\n",
            "2         10000.0          2011     3393\n",
            "3         12346.0          2009        5\n",
            "4         12346.0          2010       10\n",
            "...           ...           ...      ...\n",
            "9576      18286.0          2009        1\n",
            "9577      18286.0          2010        2\n",
            "9578      18287.0          2009        1\n",
            "9579      18287.0          2010        4\n",
            "9580      18287.0          2011        3\n",
            "\n",
            "[9581 rows x 3 columns]\n",
            "Number of duplicated in total_frequency_each_cus_year: 0\n"
          ]
        }
      ],
      "source": [
        "#Total frequency of customer purchase\n",
        "total_frequency_each_cus_year = dfc.groupby(['Customer ID', 'Invoice_year'], as_index = False)['Invoice'].nunique()\n",
        "print(total_frequency_each_cus_year)\n",
        "\n",
        "# Check duplicates\n",
        "print('Number of duplicated in total_frequency_each_cus_year:', total_frequency_each_cus_year.duplicated().sum())"
      ]
    },
    {
      "cell_type": "code",
      "execution_count": 42,
      "metadata": {},
      "outputs": [],
      "source": [
        "# fig, ax = plt.subplots(figsize=(30, 20))\n",
        "# # sns.lineplot(data = sales_month_year, x=\"Invoice_year\", y = 'Invoice_month', ax = ax)\n",
        "# sns.barplot(data = total_frequency_each_cus_year, x = \"Invoice\", y = \"Invoice_year\", hue = 'Customer ID')\n",
        "# ax.set_title('Rate of sales in each month of a year')\n",
        "# sns.move_legend(ax, \"upper left\", bbox_to_anchor = (1, 1))\n",
        "# plt.show()"
      ]
    },
    {
      "cell_type": "code",
      "execution_count": 43,
      "metadata": {
        "colab": {
          "base_uri": "https://localhost:8080/",
          "height": 423
        },
        "id": "swMMqau_tlCx",
        "outputId": "f7db31b8-6eb2-4082-e46a-d3518a341289"
      },
      "outputs": [
        {
          "name": "stdout",
          "output_type": "stream",
          "text": [
            "         StockCode  Quantity\n",
            "0            10002      8851\n",
            "1            10080       597\n",
            "2            10109         4\n",
            "3            10120       664\n",
            "4            10125      2103\n",
            "...            ...       ...\n",
            "5300  gift_0001_60        13\n",
            "5301  gift_0001_70        13\n",
            "5302  gift_0001_80        13\n",
            "5303  gift_0001_90        12\n",
            "5304             m         5\n",
            "\n",
            "[5305 rows x 2 columns]\n",
            "Number of duplicated in frequency_each_product: 0\n"
          ]
        }
      ],
      "source": [
        "#Total number of purchace for each item pr product\n",
        "frequency_each_product = dfc.groupby(['StockCode'], as_index = False)['Quantity'].sum()\n",
        "print(frequency_each_product)\n",
        "\n",
        "# Check duplicates\n",
        "print('Number of duplicated in frequency_each_product:', frequency_each_product.duplicated().sum())\n"
      ]
    },
    {
      "cell_type": "code",
      "execution_count": 44,
      "metadata": {
        "colab": {
          "base_uri": "https://localhost:8080/",
          "height": 466
        },
        "id": "UaTJviqstk3s",
        "outputId": "e051986c-3c33-456c-fe4d-564e7b99bd0c"
      },
      "outputs": [
        {
          "name": "stdout",
          "output_type": "stream",
          "text": [
            "      Customer ID  Invoice_year  Total_price_item\n",
            "0         10000.0          2009         138979.94\n",
            "1         10000.0          2010        1458977.90\n",
            "2         10000.0          2011        1503871.91\n",
            "3         12346.0          2009            113.50\n",
            "4         12346.0          2010            259.36\n",
            "...           ...           ...               ...\n",
            "9576      18286.0          2009            462.95\n",
            "9577      18286.0          2010            833.48\n",
            "9578      18287.0          2009              0.00\n",
            "9579      18287.0          2010           2345.71\n",
            "9580      18287.0          2011           1837.28\n",
            "\n",
            "[9581 rows x 3 columns]\n",
            "Number of duplicated in total_spend_each_cus_year: 0\n"
          ]
        }
      ],
      "source": [
        "#Total price for each customer in each year\n",
        "total_spend_each_cus_year = dfc.groupby(['Customer ID', 'Invoice_year'], as_index = False)['Total_price_item'].sum()\n",
        "print(total_spend_each_cus_year)\n",
        "\n",
        "# Check duplicates\n",
        "print('Number of duplicated in total_spend_each_cus_year:', total_spend_each_cus_year.duplicated().sum())\n"
      ]
    },
    {
      "cell_type": "code",
      "execution_count": 46,
      "metadata": {},
      "outputs": [
        {
          "data": {
            "text/plain": [
              "<Axes: xlabel='Customer ID', ylabel='Count'>"
            ]
          },
          "execution_count": 46,
          "metadata": {},
          "output_type": "execute_result"
        },
        {
          "data": {
            "image/png": "[encoded data removed]",
            "text/plain": [
              "<Figure size 640x480 with 1 Axes>"
            ]
          },
          "metadata": {},
          "output_type": "display_data"
        }
      ],
      "source": [
        "sns.histplot(data = total_spend_each_cus_year, x=\"Customer ID\", hue=\"Invoice_year\", multiple=\"stack\")"
      ]
    },
    {
      "cell_type": "markdown",
      "metadata": {
        "id": "U0FfdjfzHHDV"
      },
      "source": [
        "Customer in 2010, 2011 spend sales more than 2009"
      ]
    },
    {
      "cell_type": "code",
      "execution_count": 47,
      "metadata": {
        "colab": {
          "base_uri": "https://localhost:8080/",
          "height": 1000
        },
        "id": "P1oorJ-6Q6pY",
        "outputId": "1cc91c8d-107f-4638-e3e5-997352f64c0e"
      },
      "outputs": [
        {
          "name": "stdout",
          "output_type": "stream",
          "text": [
            "      Customer ID  Invoice_year         Country  Total_price_item\n",
            "0         10000.0          2009            EIRE           1929.28\n",
            "1         10000.0          2009         Nigeria              0.00\n",
            "2         10000.0          2009  United Kingdom         137050.66\n",
            "3         10000.0          2010         Bahrain           1755.42\n",
            "4         10000.0          2010         Bermuda           1253.14\n",
            "...           ...           ...             ...               ...\n",
            "9610      18286.0          2009  United Kingdom            462.95\n",
            "9611      18286.0          2010  United Kingdom            833.48\n",
            "9612      18287.0          2009  United Kingdom              0.00\n",
            "9613      18287.0          2010  United Kingdom           2345.71\n",
            "9614      18287.0          2011  United Kingdom           1837.28\n",
            "\n",
            "[9615 rows x 4 columns]\n",
            "Number of duplicated in total_spend_each_cus_year_country: 0\n"
          ]
        }
      ],
      "source": [
        "#Total price for each customer in each year in each country\n",
        "total_spend_each_cus_year_country = dfc.groupby(['Customer ID', 'Invoice_year', 'Country'], as_index = False)['Total_price_item'].sum()\n",
        "print(total_spend_each_cus_year_country)\n",
        "\n",
        "# Check duplicates\n",
        "print('Number of duplicated in total_spend_each_cus_year_country:', total_spend_each_cus_year_country.duplicated().sum())"
      ]
    },
    {
      "cell_type": "code",
      "execution_count": 48,
      "metadata": {},
      "outputs": [
        {
          "name": "stderr",
          "output_type": "stream",
          "text": [
            "c:\\Users\\marim\\anaconda3\\Lib\\site-packages\\seaborn\\distributions.py:2142: UserWarning: `displot` is a figure-level function and does not accept the ax= parameter. You may wish to try histplot.\n",
            "  warnings.warn(msg, UserWarning)\n"
          ]
        },
        {
          "data": {
            "image/png": "[encoded data removed]",
            "text/plain": [
              "<Figure size 2201x2000 with 3 Axes>"
            ]
          },
          "metadata": {},
          "output_type": "display_data"
        }
      ],
      "source": [
        "g = sns.displot(\n",
        "    total_spend_each_cus_year_country,\n",
        "    x = \"Customer ID\", hue=  'Country',\n",
        "    col=\"Invoice_year\", col_wrap=2, height=10, ax = (5, 15)\n",
        ")\n",
        "sns.move_legend(g, \"upper left\", bbox_to_anchor=(1, 1))"
      ]
    },
    {
      "cell_type": "code",
      "execution_count": 49,
      "metadata": {
        "id": "A7FimKWHGgNW"
      },
      "outputs": [],
      "source": [
        "# fig, ax = plt.subplots(figsize=(10, 5))\n",
        "# sns.histplot(data=total_spend_each_cus_year_country, y=\"Customer ID\", x = 'Invoice_year', hue='Country', multiple=\"hist\", ax = ax)\n",
        "# sns.move_legend(ax, \"upper left\", bbox_to_anchor=(1, 1))\n",
        "# plt.show()"
      ]
    },
    {
      "cell_type": "code",
      "execution_count": 50,
      "metadata": {
        "id": "xkU6AG12JRuS"
      },
      "outputs": [],
      "source": [
        "# fig, ax = plt.subplots(figsize=(10, 5))\n",
        "# sns.histplot(data=total_spend_each_cus_year_country, hue=\"Customer ID\", x = 'Invoice_year', col='Country', ax = ax)\n",
        "# sns.histplot(data=tips, x=\"day\", hue=\"sex\", multiple=\"dodge\", shrink=.8)\n",
        "# sns.move_legend(ax, \"upper left\", bbox_to_anchor=(1, 1))\n",
        "# plt.show()\n",
        "\n",
        "# g = sns.displot(\n",
        "#     total_spend_each_cus_year_country,\n",
        "#     x=\"Customer ID\", hue=  'Country',\n",
        "#     col=\"Invoice_year\", col_wrap=2, height=10, ax = (5, 15)\n",
        "# )\n",
        "# sns.move_legend(g, \"upper left\", bbox_to_anchor=(1, 1))"
      ]
    },
    {
      "cell_type": "markdown",
      "metadata": {
        "id": "Kr_OzlCOWIiZ"
      },
      "source": [
        "The most Country that Customer spend from it is United Kingdom"
      ]
    },
    {
      "cell_type": "code",
      "execution_count": 51,
      "metadata": {
        "colab": {
          "base_uri": "https://localhost:8080/",
          "height": 487
        },
        "id": "-FHp79tILagG",
        "outputId": "e0899f4c-57ed-47f1-ff0d-73337ac0f1f4"
      },
      "outputs": [
        {
          "name": "stdout",
          "output_type": "stream",
          "text": [
            "    Invoice_year  Invoice_month  Total_price_item\n",
            "0           2009             12        822483.950\n",
            "1           2010              1        651155.112\n",
            "2           2010              2        551878.296\n",
            "3           2010              3        830915.261\n",
            "4           2010              4        678875.252\n",
            "5           2010              5        657705.500\n",
            "6           2010              6        749537.310\n",
            "7           2010              7        648810.270\n",
            "8           2010              8        695251.910\n",
            "9           2010              9        921696.991\n",
            "10          2010             10       1161902.220\n",
            "11          2010             11       1464293.142\n",
            "12          2010             12        821452.730\n",
            "13          2011              1        689811.610\n",
            "14          2011              2        522545.560\n",
            "15          2011              3        716215.260\n",
            "16          2011              4        536968.491\n",
            "17          2011              5        769281.760\n",
            "18          2011              6        760547.010\n",
            "19          2011              7        718076.121\n",
            "20          2011              8        757841.380\n",
            "21          2011              9       1056435.192\n",
            "22          2011             10       1151263.730\n",
            "23          2011             11       1503329.780\n",
            "24          2011             12        637808.330\n",
            "Number of duplicated in sales_month_year: 0\n"
          ]
        }
      ],
      "source": [
        "#Sales in each month of a year\n",
        "sales_month_year = dfc.groupby(['Invoice_year', 'Invoice_month'], as_index = False)['Total_price_item'].sum()\n",
        "print(sales_month_year)\n",
        "\n",
        "# Check duplicates\n",
        "print('Number of duplicated in sales_month_year:', sales_month_year.duplicated().sum())\n"
      ]
    },
    {
      "cell_type": "code",
      "execution_count": 52,
      "metadata": {},
      "outputs": [
        {
          "data": {
            "image/png": "[encoded data removed]",
            "text/plain": [
              "<Figure size 1000x500 with 1 Axes>"
            ]
          },
          "metadata": {},
          "output_type": "display_data"
        }
      ],
      "source": [
        "fig, ax = plt.subplots(figsize=(10, 5))\n",
        "# sns.lineplot(data = sales_month_year, x=\"Invoice_year\", y = 'Invoice_month', ax = ax)\n",
        "sns.barplot(data = sales_month_year, x=\"Invoice_year\", hue = 'Invoice_month', y = \"Total_price_item\")\n",
        "ax.set_title('Rate of sales in each month of a year')\n",
        "sns.move_legend(ax, \"upper left\", bbox_to_anchor=(1, 1))\n",
        "plt.show()"
      ]
    },
    {
      "cell_type": "markdown",
      "metadata": {
        "id": "-OMa0s0QZ-gI"
      },
      "source": [
        "Sales in 2009 were only in the last month, however\n",
        "Sales in 2010 and 2011 in months 9, 10 and 11 were higher than the remaining months."
      ]
    },
    {
      "cell_type": "markdown",
      "metadata": {
        "id": "5O-oOC39szM8"
      },
      "source": [
        "## Merge DataFrame and Groupby tables"
      ]
    },
    {
      "cell_type": "code",
      "execution_count": 54,
      "metadata": {
        "id": "7epf3LGUWvoN"
      },
      "outputs": [
        {
          "name": "stdout",
          "output_type": "stream",
          "text": [
            "Number of duplicated in merged_df: 0\n"
          ]
        }
      ],
      "source": [
        "how_val = 'inner'\n",
        "\n",
        "#Merge dfc and total_spend_each_cus_day df\n",
        "merged_df = pd.merge(dfc, total_spend_each_cus_day, on = ['Customer ID', 'Invoice_day'], how = how_val, suffixes = (None, '_spend_each_cus_day'))\n",
        "\n",
        "# Check duplicates\n",
        "print('Number of duplicated in merged_df:', merged_df.duplicated().sum())\n"
      ]
    },
    {
      "cell_type": "code",
      "execution_count": 55,
      "metadata": {},
      "outputs": [
        {
          "name": "stdout",
          "output_type": "stream",
          "text": [
            "Number of duplicated in merged_df: 0\n",
            "Number of duplicated in merged_df: 0\n"
          ]
        }
      ],
      "source": [
        "\n",
        "#Merge dfc and total_spend_each_cus_year df\n",
        "merged_df = pd.merge(merged_df, total_spend_each_cus_year, on= ['Customer ID', 'Invoice_year'], how = how_val, suffixes = (None, '_total_spend_each_cus_year'))\n",
        "# Check duplicates\n",
        "print('Number of duplicated in merged_df:', merged_df.duplicated().sum())\n",
        "\n",
        "#Merge dfc and total_frequency_each_cus_year df\n",
        "merged_df = pd.merge(merged_df, total_frequency_each_cus_year, on= ['Customer ID', 'Invoice_year'], how = how_val, suffixes = (None, '_frequency_each_cus_year'))\n",
        "# Check duplicates\n",
        "print('Number of duplicated in merged_df:', merged_df.duplicated().sum())"
      ]
    },
    {
      "cell_type": "code",
      "execution_count": 56,
      "metadata": {
        "colab": {
          "base_uri": "https://localhost:8080/",
          "height": 620
        },
        "id": "OLLvX3FPLG-h",
        "outputId": "6d388374-a810-420c-d077-5b658ff48603"
      },
      "outputs": [
        {
          "name": "stdout",
          "output_type": "stream",
          "text": [
            "Number of duplicated in merged_df: 0\n",
            "Number of duplicated in merged_df: 0\n",
            "Number of duplicated in merged_df: 0\n"
          ]
        },
        {
          "data": {
            "text/html": [
              "<div>\n",
              "<style scoped>\n",
              "    .dataframe tbody tr th:only-of-type {\n",
              "        vertical-align: middle;\n",
              "    }\n",
              "\n",
              "    .dataframe tbody tr th {\n",
              "        vertical-align: top;\n",
              "    }\n",
              "\n",
              "    .dataframe thead th {\n",
              "        text-align: right;\n",
              "    }\n",
              "</style>\n",
              "<table border=\"1\" class=\"dataframe\">\n",
              "  <thead>\n",
              "    <tr style=\"text-align: right;\">\n",
              "      <th></th>\n",
              "      <th>Invoice</th>\n",
              "      <th>StockCode</th>\n",
              "      <th>Quantity</th>\n",
              "      <th>InvoiceDate</th>\n",
              "      <th>Price</th>\n",
              "      <th>Customer ID</th>\n",
              "      <th>Country</th>\n",
              "      <th>Cancelled_Invoice</th>\n",
              "      <th>invoice_date</th>\n",
              "      <th>invoice_time</th>\n",
              "      <th>Invoice_day</th>\n",
              "      <th>Invoice_month</th>\n",
              "      <th>Invoice_year</th>\n",
              "      <th>Total_price_item</th>\n",
              "      <th>Total_price_item_spend_each_cus_day</th>\n",
              "      <th>Total_price_item_total_spend_each_cus_year</th>\n",
              "      <th>Invoice_frequency_each_cus_year</th>\n",
              "      <th>Quantity_frequency_each_product</th>\n",
              "      <th>Total_price_item_total_spend_each_cus_year_country</th>\n",
              "      <th>Total_price_item_sales_month_year</th>\n",
              "    </tr>\n",
              "  </thead>\n",
              "  <tbody>\n",
              "    <tr>\n",
              "      <th>0</th>\n",
              "      <td>489434</td>\n",
              "      <td>85048</td>\n",
              "      <td>12</td>\n",
              "      <td>2009-12-01 07:45:00</td>\n",
              "      <td>6.95</td>\n",
              "      <td>13085.0</td>\n",
              "      <td>United Kingdom</td>\n",
              "      <td>0</td>\n",
              "      <td>2009-12-01</td>\n",
              "      <td>07:45:00</td>\n",
              "      <td>1</td>\n",
              "      <td>12</td>\n",
              "      <td>2009</td>\n",
              "      <td>83.4</td>\n",
              "      <td>651.1</td>\n",
              "      <td>1096.8</td>\n",
              "      <td>4</td>\n",
              "      <td>2685</td>\n",
              "      <td>1096.8</td>\n",
              "      <td>822483.95</td>\n",
              "    </tr>\n",
              "    <tr>\n",
              "      <th>1</th>\n",
              "      <td>489434</td>\n",
              "      <td>79323P</td>\n",
              "      <td>12</td>\n",
              "      <td>2009-12-01 07:45:00</td>\n",
              "      <td>6.75</td>\n",
              "      <td>13085.0</td>\n",
              "      <td>United Kingdom</td>\n",
              "      <td>0</td>\n",
              "      <td>2009-12-01</td>\n",
              "      <td>07:45:00</td>\n",
              "      <td>1</td>\n",
              "      <td>12</td>\n",
              "      <td>2009</td>\n",
              "      <td>81.0</td>\n",
              "      <td>651.1</td>\n",
              "      <td>1096.8</td>\n",
              "      <td>4</td>\n",
              "      <td>2281</td>\n",
              "      <td>1096.8</td>\n",
              "      <td>822483.95</td>\n",
              "    </tr>\n",
              "    <tr>\n",
              "      <th>2</th>\n",
              "      <td>489434</td>\n",
              "      <td>79323W</td>\n",
              "      <td>12</td>\n",
              "      <td>2009-12-01 07:45:00</td>\n",
              "      <td>6.75</td>\n",
              "      <td>13085.0</td>\n",
              "      <td>United Kingdom</td>\n",
              "      <td>0</td>\n",
              "      <td>2009-12-01</td>\n",
              "      <td>07:45:00</td>\n",
              "      <td>1</td>\n",
              "      <td>12</td>\n",
              "      <td>2009</td>\n",
              "      <td>81.0</td>\n",
              "      <td>651.1</td>\n",
              "      <td>1096.8</td>\n",
              "      <td>4</td>\n",
              "      <td>3004</td>\n",
              "      <td>1096.8</td>\n",
              "      <td>822483.95</td>\n",
              "    </tr>\n",
              "    <tr>\n",
              "      <th>3</th>\n",
              "      <td>489434</td>\n",
              "      <td>22041</td>\n",
              "      <td>48</td>\n",
              "      <td>2009-12-01 07:45:00</td>\n",
              "      <td>2.10</td>\n",
              "      <td>13085.0</td>\n",
              "      <td>United Kingdom</td>\n",
              "      <td>0</td>\n",
              "      <td>2009-12-01</td>\n",
              "      <td>07:45:00</td>\n",
              "      <td>1</td>\n",
              "      <td>12</td>\n",
              "      <td>2009</td>\n",
              "      <td>100.8</td>\n",
              "      <td>651.1</td>\n",
              "      <td>1096.8</td>\n",
              "      <td>4</td>\n",
              "      <td>7540</td>\n",
              "      <td>1096.8</td>\n",
              "      <td>822483.95</td>\n",
              "    </tr>\n",
              "    <tr>\n",
              "      <th>4</th>\n",
              "      <td>490069</td>\n",
              "      <td>22041</td>\n",
              "      <td>12</td>\n",
              "      <td>2009-12-03 14:07:00</td>\n",
              "      <td>2.55</td>\n",
              "      <td>13085.0</td>\n",
              "      <td>United Kingdom</td>\n",
              "      <td>0</td>\n",
              "      <td>2009-12-03</td>\n",
              "      <td>14:07:00</td>\n",
              "      <td>3</td>\n",
              "      <td>12</td>\n",
              "      <td>2009</td>\n",
              "      <td>30.6</td>\n",
              "      <td>445.7</td>\n",
              "      <td>1096.8</td>\n",
              "      <td>4</td>\n",
              "      <td>7540</td>\n",
              "      <td>1096.8</td>\n",
              "      <td>822483.95</td>\n",
              "    </tr>\n",
              "  </tbody>\n",
              "</table>\n",
              "</div>"
            ],
            "text/plain": [
              "  Invoice StockCode  Quantity         InvoiceDate  Price  Customer ID  \\\n",
              "0  489434     85048        12 2009-12-01 07:45:00   6.95      13085.0   \n",
              "1  489434    79323P        12 2009-12-01 07:45:00   6.75      13085.0   \n",
              "2  489434    79323W        12 2009-12-01 07:45:00   6.75      13085.0   \n",
              "3  489434     22041        48 2009-12-01 07:45:00   2.10      13085.0   \n",
              "4  490069     22041        12 2009-12-03 14:07:00   2.55      13085.0   \n",
              "\n",
              "          Country  Cancelled_Invoice invoice_date invoice_time  Invoice_day  \\\n",
              "0  United Kingdom                  0   2009-12-01     07:45:00            1   \n",
              "1  United Kingdom                  0   2009-12-01     07:45:00            1   \n",
              "2  United Kingdom                  0   2009-12-01     07:45:00            1   \n",
              "3  United Kingdom                  0   2009-12-01     07:45:00            1   \n",
              "4  United Kingdom                  0   2009-12-03     14:07:00            3   \n",
              "\n",
              "   Invoice_month  Invoice_year  Total_price_item  \\\n",
              "0             12          2009              83.4   \n",
              "1             12          2009              81.0   \n",
              "2             12          2009              81.0   \n",
              "3             12          2009             100.8   \n",
              "4             12          2009              30.6   \n",
              "\n",
              "   Total_price_item_spend_each_cus_day  \\\n",
              "0                                651.1   \n",
              "1                                651.1   \n",
              "2                                651.1   \n",
              "3                                651.1   \n",
              "4                                445.7   \n",
              "\n",
              "   Total_price_item_total_spend_each_cus_year  \\\n",
              "0                                      1096.8   \n",
              "1                                      1096.8   \n",
              "2                                      1096.8   \n",
              "3                                      1096.8   \n",
              "4                                      1096.8   \n",
              "\n",
              "   Invoice_frequency_each_cus_year  Quantity_frequency_each_product  \\\n",
              "0                                4                             2685   \n",
              "1                                4                             2281   \n",
              "2                                4                             3004   \n",
              "3                                4                             7540   \n",
              "4                                4                             7540   \n",
              "\n",
              "   Total_price_item_total_spend_each_cus_year_country  \\\n",
              "0                                             1096.8    \n",
              "1                                             1096.8    \n",
              "2                                             1096.8    \n",
              "3                                             1096.8    \n",
              "4                                             1096.8    \n",
              "\n",
              "   Total_price_item_sales_month_year  \n",
              "0                          822483.95  \n",
              "1                          822483.95  \n",
              "2                          822483.95  \n",
              "3                          822483.95  \n",
              "4                          822483.95  "
            ]
          },
          "execution_count": 56,
          "metadata": {},
          "output_type": "execute_result"
        }
      ],
      "source": [
        "#Merge dfc and frequency_each_product df\n",
        "merged_df = pd.merge(merged_df, frequency_each_product, on= ['StockCode'], how = how_val, suffixes = (None, '_frequency_each_product'))\n",
        "# Check duplicates\n",
        "print('Number of duplicated in merged_df:', merged_df.duplicated().sum())\n",
        "\n",
        "#Merge dfc and total_spend_each_cus_year_country df\n",
        "merged_df = pd.merge(merged_df, total_spend_each_cus_year_country, on= ['Customer ID', 'Invoice_year', 'Country'], how = how_val, suffixes = (None, '_total_spend_each_cus_year_country'))\n",
        "# Check duplicates\n",
        "print('Number of duplicated in merged_df:', merged_df.duplicated().sum())\n",
        "\n",
        "#Merge dfc and sales_month_year df\n",
        "merged_df = pd.merge(merged_df, sales_month_year, on= ['Invoice_year', 'Invoice_month'], how = how_val, suffixes = (None, '_sales_month_year'))\n",
        "# Check duplicates\n",
        "print('Number of duplicated in merged_df:', merged_df.duplicated().sum())\n",
        "\n",
        "#Show the first 5 rows\n",
        "merged_df.head()"
      ]
    },
    {
      "cell_type": "code",
      "execution_count": null,
      "metadata": {
        "id": "0XI_vL3jUjS2"
      },
      "outputs": [],
      "source": []
    },
    {
      "cell_type": "markdown",
      "metadata": {
        "id": "CRbiKzYQMNWW"
      },
      "source": [
        "## Preprocessing"
      ]
    },
    {
      "cell_type": "code",
      "execution_count": 57,
      "metadata": {
        "colab": {
          "base_uri": "https://localhost:8080/",
          "height": 620
        },
        "id": "dg-nK7tYENye",
        "outputId": "b7447c08-d39b-4c72-b8a0-011717fb6006"
      },
      "outputs": [
        {
          "data": {
            "text/html": [
              "<div>\n",
              "<style scoped>\n",
              "    .dataframe tbody tr th:only-of-type {\n",
              "        vertical-align: middle;\n",
              "    }\n",
              "\n",
              "    .dataframe tbody tr th {\n",
              "        vertical-align: top;\n",
              "    }\n",
              "\n",
              "    .dataframe thead th {\n",
              "        text-align: right;\n",
              "    }\n",
              "</style>\n",
              "<table border=\"1\" class=\"dataframe\">\n",
              "  <thead>\n",
              "    <tr style=\"text-align: right;\">\n",
              "      <th></th>\n",
              "      <th>Invoice</th>\n",
              "      <th>StockCode</th>\n",
              "      <th>Quantity</th>\n",
              "      <th>InvoiceDate</th>\n",
              "      <th>Price</th>\n",
              "      <th>Customer ID</th>\n",
              "      <th>Country</th>\n",
              "      <th>Cancelled_Invoice</th>\n",
              "      <th>invoice_date</th>\n",
              "      <th>invoice_time</th>\n",
              "      <th>Invoice_day</th>\n",
              "      <th>Invoice_month</th>\n",
              "      <th>Invoice_year</th>\n",
              "      <th>Total_price_item</th>\n",
              "      <th>Total_price_item_spend_each_cus_day</th>\n",
              "      <th>Total_price_item_total_spend_each_cus_year</th>\n",
              "      <th>Invoice_frequency_each_cus_year</th>\n",
              "      <th>Quantity_frequency_each_product</th>\n",
              "      <th>Total_price_item_total_spend_each_cus_year_country</th>\n",
              "      <th>Total_price_item_sales_month_year</th>\n",
              "    </tr>\n",
              "  </thead>\n",
              "  <tbody>\n",
              "    <tr>\n",
              "      <th>0</th>\n",
              "      <td>489434</td>\n",
              "      <td>85048</td>\n",
              "      <td>12</td>\n",
              "      <td>2009-12-01 07:45:00</td>\n",
              "      <td>6.95</td>\n",
              "      <td>13085.0</td>\n",
              "      <td>United Kingdom</td>\n",
              "      <td>0</td>\n",
              "      <td>2009-12-01</td>\n",
              "      <td>07:45:00</td>\n",
              "      <td>1</td>\n",
              "      <td>12</td>\n",
              "      <td>2009</td>\n",
              "      <td>83.4</td>\n",
              "      <td>651.1</td>\n",
              "      <td>1096.8</td>\n",
              "      <td>4</td>\n",
              "      <td>2685</td>\n",
              "      <td>1096.8</td>\n",
              "      <td>822483.95</td>\n",
              "    </tr>\n",
              "    <tr>\n",
              "      <th>1</th>\n",
              "      <td>489434</td>\n",
              "      <td>79323P</td>\n",
              "      <td>12</td>\n",
              "      <td>2009-12-01 07:45:00</td>\n",
              "      <td>6.75</td>\n",
              "      <td>13085.0</td>\n",
              "      <td>United Kingdom</td>\n",
              "      <td>0</td>\n",
              "      <td>2009-12-01</td>\n",
              "      <td>07:45:00</td>\n",
              "      <td>1</td>\n",
              "      <td>12</td>\n",
              "      <td>2009</td>\n",
              "      <td>81.0</td>\n",
              "      <td>651.1</td>\n",
              "      <td>1096.8</td>\n",
              "      <td>4</td>\n",
              "      <td>2281</td>\n",
              "      <td>1096.8</td>\n",
              "      <td>822483.95</td>\n",
              "    </tr>\n",
              "    <tr>\n",
              "      <th>2</th>\n",
              "      <td>489434</td>\n",
              "      <td>79323W</td>\n",
              "      <td>12</td>\n",
              "      <td>2009-12-01 07:45:00</td>\n",
              "      <td>6.75</td>\n",
              "      <td>13085.0</td>\n",
              "      <td>United Kingdom</td>\n",
              "      <td>0</td>\n",
              "      <td>2009-12-01</td>\n",
              "      <td>07:45:00</td>\n",
              "      <td>1</td>\n",
              "      <td>12</td>\n",
              "      <td>2009</td>\n",
              "      <td>81.0</td>\n",
              "      <td>651.1</td>\n",
              "      <td>1096.8</td>\n",
              "      <td>4</td>\n",
              "      <td>3004</td>\n",
              "      <td>1096.8</td>\n",
              "      <td>822483.95</td>\n",
              "    </tr>\n",
              "    <tr>\n",
              "      <th>3</th>\n",
              "      <td>489434</td>\n",
              "      <td>22041</td>\n",
              "      <td>48</td>\n",
              "      <td>2009-12-01 07:45:00</td>\n",
              "      <td>2.10</td>\n",
              "      <td>13085.0</td>\n",
              "      <td>United Kingdom</td>\n",
              "      <td>0</td>\n",
              "      <td>2009-12-01</td>\n",
              "      <td>07:45:00</td>\n",
              "      <td>1</td>\n",
              "      <td>12</td>\n",
              "      <td>2009</td>\n",
              "      <td>100.8</td>\n",
              "      <td>651.1</td>\n",
              "      <td>1096.8</td>\n",
              "      <td>4</td>\n",
              "      <td>7540</td>\n",
              "      <td>1096.8</td>\n",
              "      <td>822483.95</td>\n",
              "    </tr>\n",
              "    <tr>\n",
              "      <th>4</th>\n",
              "      <td>490069</td>\n",
              "      <td>22041</td>\n",
              "      <td>12</td>\n",
              "      <td>2009-12-03 14:07:00</td>\n",
              "      <td>2.55</td>\n",
              "      <td>13085.0</td>\n",
              "      <td>United Kingdom</td>\n",
              "      <td>0</td>\n",
              "      <td>2009-12-03</td>\n",
              "      <td>14:07:00</td>\n",
              "      <td>3</td>\n",
              "      <td>12</td>\n",
              "      <td>2009</td>\n",
              "      <td>30.6</td>\n",
              "      <td>445.7</td>\n",
              "      <td>1096.8</td>\n",
              "      <td>4</td>\n",
              "      <td>7540</td>\n",
              "      <td>1096.8</td>\n",
              "      <td>822483.95</td>\n",
              "    </tr>\n",
              "  </tbody>\n",
              "</table>\n",
              "</div>"
            ],
            "text/plain": [
              "  Invoice StockCode  Quantity         InvoiceDate  Price  Customer ID  \\\n",
              "0  489434     85048        12 2009-12-01 07:45:00   6.95      13085.0   \n",
              "1  489434    79323P        12 2009-12-01 07:45:00   6.75      13085.0   \n",
              "2  489434    79323W        12 2009-12-01 07:45:00   6.75      13085.0   \n",
              "3  489434     22041        48 2009-12-01 07:45:00   2.10      13085.0   \n",
              "4  490069     22041        12 2009-12-03 14:07:00   2.55      13085.0   \n",
              "\n",
              "          Country  Cancelled_Invoice invoice_date invoice_time  Invoice_day  \\\n",
              "0  United Kingdom                  0   2009-12-01     07:45:00            1   \n",
              "1  United Kingdom                  0   2009-12-01     07:45:00            1   \n",
              "2  United Kingdom                  0   2009-12-01     07:45:00            1   \n",
              "3  United Kingdom                  0   2009-12-01     07:45:00            1   \n",
              "4  United Kingdom                  0   2009-12-03     14:07:00            3   \n",
              "\n",
              "   Invoice_month  Invoice_year  Total_price_item  \\\n",
              "0             12          2009              83.4   \n",
              "1             12          2009              81.0   \n",
              "2             12          2009              81.0   \n",
              "3             12          2009             100.8   \n",
              "4             12          2009              30.6   \n",
              "\n",
              "   Total_price_item_spend_each_cus_day  \\\n",
              "0                                651.1   \n",
              "1                                651.1   \n",
              "2                                651.1   \n",
              "3                                651.1   \n",
              "4                                445.7   \n",
              "\n",
              "   Total_price_item_total_spend_each_cus_year  \\\n",
              "0                                      1096.8   \n",
              "1                                      1096.8   \n",
              "2                                      1096.8   \n",
              "3                                      1096.8   \n",
              "4                                      1096.8   \n",
              "\n",
              "   Invoice_frequency_each_cus_year  Quantity_frequency_each_product  \\\n",
              "0                                4                             2685   \n",
              "1                                4                             2281   \n",
              "2                                4                             3004   \n",
              "3                                4                             7540   \n",
              "4                                4                             7540   \n",
              "\n",
              "   Total_price_item_total_spend_each_cus_year_country  \\\n",
              "0                                             1096.8    \n",
              "1                                             1096.8    \n",
              "2                                             1096.8    \n",
              "3                                             1096.8    \n",
              "4                                             1096.8    \n",
              "\n",
              "   Total_price_item_sales_month_year  \n",
              "0                          822483.95  \n",
              "1                          822483.95  \n",
              "2                          822483.95  \n",
              "3                          822483.95  \n",
              "4                          822483.95  "
            ]
          },
          "execution_count": 57,
          "metadata": {},
          "output_type": "execute_result"
        }
      ],
      "source": [
        "merged_df.head()"
      ]
    },
    {
      "cell_type": "code",
      "execution_count": 58,
      "metadata": {
        "id": "TWvBBCoDKm3Y"
      },
      "outputs": [],
      "source": [
        "#Deleted the useless columns\n",
        "merged_df.drop(['Invoice', 'StockCode', 'InvoiceDate', 'Customer ID','invoice_date', 'invoice_time'], inplace = True, axis = 1)"
      ]
    },
    {
      "cell_type": "code",
      "execution_count": 59,
      "metadata": {
        "id": "90cbfGYFMCK1"
      },
      "outputs": [
        {
          "data": {
            "text/html": [
              "<div>\n",
              "<style scoped>\n",
              "    .dataframe tbody tr th:only-of-type {\n",
              "        vertical-align: middle;\n",
              "    }\n",
              "\n",
              "    .dataframe tbody tr th {\n",
              "        vertical-align: top;\n",
              "    }\n",
              "\n",
              "    .dataframe thead th {\n",
              "        text-align: right;\n",
              "    }\n",
              "</style>\n",
              "<table border=\"1\" class=\"dataframe\">\n",
              "  <thead>\n",
              "    <tr style=\"text-align: right;\">\n",
              "      <th></th>\n",
              "      <th>Quantity</th>\n",
              "      <th>Price</th>\n",
              "      <th>Country</th>\n",
              "      <th>Cancelled_Invoice</th>\n",
              "      <th>Invoice_day</th>\n",
              "      <th>Invoice_month</th>\n",
              "      <th>Invoice_year</th>\n",
              "      <th>Total_price_item</th>\n",
              "      <th>Total_price_item_spend_each_cus_day</th>\n",
              "      <th>Total_price_item_total_spend_each_cus_year</th>\n",
              "      <th>Invoice_frequency_each_cus_year</th>\n",
              "      <th>Quantity_frequency_each_product</th>\n",
              "      <th>Total_price_item_total_spend_each_cus_year_country</th>\n",
              "      <th>Total_price_item_sales_month_year</th>\n",
              "    </tr>\n",
              "  </thead>\n",
              "  <tbody>\n",
              "    <tr>\n",
              "      <th>0</th>\n",
              "      <td>12</td>\n",
              "      <td>6.95</td>\n",
              "      <td>United Kingdom</td>\n",
              "      <td>0</td>\n",
              "      <td>1</td>\n",
              "      <td>12</td>\n",
              "      <td>2009</td>\n",
              "      <td>83.4</td>\n",
              "      <td>651.1</td>\n",
              "      <td>1096.8</td>\n",
              "      <td>4</td>\n",
              "      <td>2685</td>\n",
              "      <td>1096.8</td>\n",
              "      <td>822483.95</td>\n",
              "    </tr>\n",
              "    <tr>\n",
              "      <th>1</th>\n",
              "      <td>12</td>\n",
              "      <td>6.75</td>\n",
              "      <td>United Kingdom</td>\n",
              "      <td>0</td>\n",
              "      <td>1</td>\n",
              "      <td>12</td>\n",
              "      <td>2009</td>\n",
              "      <td>81.0</td>\n",
              "      <td>651.1</td>\n",
              "      <td>1096.8</td>\n",
              "      <td>4</td>\n",
              "      <td>2281</td>\n",
              "      <td>1096.8</td>\n",
              "      <td>822483.95</td>\n",
              "    </tr>\n",
              "    <tr>\n",
              "      <th>2</th>\n",
              "      <td>12</td>\n",
              "      <td>6.75</td>\n",
              "      <td>United Kingdom</td>\n",
              "      <td>0</td>\n",
              "      <td>1</td>\n",
              "      <td>12</td>\n",
              "      <td>2009</td>\n",
              "      <td>81.0</td>\n",
              "      <td>651.1</td>\n",
              "      <td>1096.8</td>\n",
              "      <td>4</td>\n",
              "      <td>3004</td>\n",
              "      <td>1096.8</td>\n",
              "      <td>822483.95</td>\n",
              "    </tr>\n",
              "    <tr>\n",
              "      <th>3</th>\n",
              "      <td>48</td>\n",
              "      <td>2.10</td>\n",
              "      <td>United Kingdom</td>\n",
              "      <td>0</td>\n",
              "      <td>1</td>\n",
              "      <td>12</td>\n",
              "      <td>2009</td>\n",
              "      <td>100.8</td>\n",
              "      <td>651.1</td>\n",
              "      <td>1096.8</td>\n",
              "      <td>4</td>\n",
              "      <td>7540</td>\n",
              "      <td>1096.8</td>\n",
              "      <td>822483.95</td>\n",
              "    </tr>\n",
              "    <tr>\n",
              "      <th>4</th>\n",
              "      <td>12</td>\n",
              "      <td>2.55</td>\n",
              "      <td>United Kingdom</td>\n",
              "      <td>0</td>\n",
              "      <td>3</td>\n",
              "      <td>12</td>\n",
              "      <td>2009</td>\n",
              "      <td>30.6</td>\n",
              "      <td>445.7</td>\n",
              "      <td>1096.8</td>\n",
              "      <td>4</td>\n",
              "      <td>7540</td>\n",
              "      <td>1096.8</td>\n",
              "      <td>822483.95</td>\n",
              "    </tr>\n",
              "  </tbody>\n",
              "</table>\n",
              "</div>"
            ],
            "text/plain": [
              "   Quantity  Price         Country  Cancelled_Invoice  Invoice_day  \\\n",
              "0        12   6.95  United Kingdom                  0            1   \n",
              "1        12   6.75  United Kingdom                  0            1   \n",
              "2        12   6.75  United Kingdom                  0            1   \n",
              "3        48   2.10  United Kingdom                  0            1   \n",
              "4        12   2.55  United Kingdom                  0            3   \n",
              "\n",
              "   Invoice_month  Invoice_year  Total_price_item  \\\n",
              "0             12          2009              83.4   \n",
              "1             12          2009              81.0   \n",
              "2             12          2009              81.0   \n",
              "3             12          2009             100.8   \n",
              "4             12          2009              30.6   \n",
              "\n",
              "   Total_price_item_spend_each_cus_day  \\\n",
              "0                                651.1   \n",
              "1                                651.1   \n",
              "2                                651.1   \n",
              "3                                651.1   \n",
              "4                                445.7   \n",
              "\n",
              "   Total_price_item_total_spend_each_cus_year  \\\n",
              "0                                      1096.8   \n",
              "1                                      1096.8   \n",
              "2                                      1096.8   \n",
              "3                                      1096.8   \n",
              "4                                      1096.8   \n",
              "\n",
              "   Invoice_frequency_each_cus_year  Quantity_frequency_each_product  \\\n",
              "0                                4                             2685   \n",
              "1                                4                             2281   \n",
              "2                                4                             3004   \n",
              "3                                4                             7540   \n",
              "4                                4                             7540   \n",
              "\n",
              "   Total_price_item_total_spend_each_cus_year_country  \\\n",
              "0                                             1096.8    \n",
              "1                                             1096.8    \n",
              "2                                             1096.8    \n",
              "3                                             1096.8    \n",
              "4                                             1096.8    \n",
              "\n",
              "   Total_price_item_sales_month_year  \n",
              "0                          822483.95  \n",
              "1                          822483.95  \n",
              "2                          822483.95  \n",
              "3                          822483.95  \n",
              "4                          822483.95  "
            ]
          },
          "execution_count": 59,
          "metadata": {},
          "output_type": "execute_result"
        }
      ],
      "source": [
        "# Show the first 5 rows\n",
        "merged_df.head()"
      ]
    },
    {
      "cell_type": "code",
      "execution_count": 60,
      "metadata": {},
      "outputs": [
        {
          "data": {
            "text/plain": [
              "(1032971, 14)"
            ]
          },
          "execution_count": 60,
          "metadata": {},
          "output_type": "execute_result"
        }
      ],
      "source": [
        "# The size of the dataframe\n",
        "merged_df.shape"
      ]
    },
    {
      "cell_type": "code",
      "execution_count": 61,
      "metadata": {
        "id": "o7LyOFPXMWtT"
      },
      "outputs": [
        {
          "name": "stdout",
          "output_type": "stream",
          "text": [
            "Number of duplicates: 25124\n"
          ]
        }
      ],
      "source": [
        "# Check duplicated rows\n",
        "print(f'Number of duplicates: {merged_df.duplicated().sum()}')\n",
        "\n",
        "# Remove all duplicated rows\n",
        "merged_df.drop_duplicates(inplace = True)"
      ]
    },
    {
      "cell_type": "code",
      "execution_count": 62,
      "metadata": {
        "id": "uT-ipS0qthUq"
      },
      "outputs": [],
      "source": [
        "# #correlation\n",
        "# corr = merged_df.corr()\n",
        "# # fig, ax = plt.subplots(figsize=(10, 5))\n",
        " \n",
        "# plt.figure(figsize=(20, 10))\n",
        "# sns.heatmap(merged_df.corr(), annot=True)\n",
        "# plt.show()"
      ]
    },
    {
      "cell_type": "markdown",
      "metadata": {},
      "source": [
        "## Splitting Data"
      ]
    },
    {
      "cell_type": "code",
      "execution_count": 63,
      "metadata": {},
      "outputs": [],
      "source": [
        "from sklearn.model_selection import train_test_split\n",
        "from sklearn.pipeline import Pipeline\n",
        "from sklearn import preprocessing\n",
        "from sklearn.compose import ColumnTransformer\n",
        "from sklearn.feature_selection import SelectKBest, mutual_info_classif"
      ]
    },
    {
      "cell_type": "code",
      "execution_count": 64,
      "metadata": {},
      "outputs": [
        {
          "data": {
            "text/plain": [
              "pandas.core.frame.DataFrame"
            ]
          },
          "execution_count": 64,
          "metadata": {},
          "output_type": "execute_result"
        }
      ],
      "source": [
        "# Collect all int columns\n",
        "col_int = merged_df.select_dtypes('int64')\n",
        "\n",
        "# Collect all float columns\n",
        "col_float = merged_df.select_dtypes('float64')\n",
        "\n",
        "# Collect all categoricat columns\n",
        "col_object = merged_df.select_dtypes('object')\n",
        "\n",
        "for col_name in col_object.columns:\n",
        "    merged_df[col_name] = merged_df[col_name].astype('category')\n",
        "\n",
        "type(merged_df[col_object.columns])"
      ]
    },
    {
      "cell_type": "code",
      "execution_count": 65,
      "metadata": {},
      "outputs": [],
      "source": [
        "# Split data into X, and y\n",
        "X = merged_df.loc[:, merged_df.columns != 'Total_price_item_total_spend_each_cus_year']\n",
        "y = merged_df.loc[:, 'Total_price_item_total_spend_each_cus_year']"
      ]
    },
    {
      "cell_type": "code",
      "execution_count": 66,
      "metadata": {},
      "outputs": [],
      "source": [
        "# Split X, y into train and test\n",
        "X_train, X_test, y_train, y_test = train_test_split(X, y, test_size = 0.2, random_state = 42)\n",
        "y_train = y_train.astype('int64')\n",
        "y_test = y_test.astype('int64')"
      ]
    },
    {
      "cell_type": "markdown",
      "metadata": {},
      "source": [
        "## Extract numerical features and categorical Features"
      ]
    },
    {
      "cell_type": "code",
      "execution_count": 67,
      "metadata": {},
      "outputs": [
        {
          "name": "stdout",
          "output_type": "stream",
          "text": [
            "numerical_features: \n",
            " ['Quantity', 'Price', 'Cancelled_Invoice', 'Invoice_day', 'Invoice_month', 'Invoice_year', 'Total_price_item', 'Total_price_item_spend_each_cus_day', 'Invoice_frequency_each_cus_year', 'Quantity_frequency_each_product', 'Total_price_item_total_spend_each_cus_year_country', 'Total_price_item_sales_month_year']\n",
            "categorical_features\n",
            " ['Country']\n"
          ]
        }
      ],
      "source": [
        "#Numerical Features\n",
        "numerical_features = list(X_train.select_dtypes(include= ['float64', 'int64']))\n",
        "\n",
        "#Categorical Features\n",
        "categorical_features = list(X_train.select_dtypes(include=['category']))\n",
        "\n",
        "#Display numerical and categorical features\n",
        "print('numerical_features: \\n', numerical_features)\n",
        "print('categorical_features\\n', categorical_features)"
      ]
    },
    {
      "cell_type": "code",
      "execution_count": 68,
      "metadata": {},
      "outputs": [
        {
          "name": "stdout",
          "output_type": "stream",
          "text": [
            "The Quantity: (806277,)\n",
            "\n",
            "The Price: (806277,)\n",
            "\n",
            "The Cancelled_Invoice: (806277,)\n",
            "\n",
            "The Invoice_day: (806277,)\n",
            "\n",
            "The Invoice_month: (806277,)\n",
            "\n",
            "The Invoice_year: (806277,)\n",
            "\n",
            "The Total_price_item: (806277,)\n",
            "\n",
            "The Total_price_item_spend_each_cus_day: (806277,)\n",
            "\n",
            "The Invoice_frequency_each_cus_year: (806277,)\n",
            "\n",
            "The Quantity_frequency_each_product: (806277,)\n",
            "\n",
            "The Total_price_item_total_spend_each_cus_year_country: (806277,)\n",
            "\n",
            "The Total_price_item_sales_month_year: (806277,)\n",
            "\n"
          ]
        },
        {
          "data": {
            "text/plain": [
              "(806277,)"
            ]
          },
          "execution_count": 68,
          "metadata": {},
          "output_type": "execute_result"
        }
      ],
      "source": [
        "# Display the shape of each column\n",
        "for i in numerical_features:\n",
        "    print(f\"The {i}: {X_train[i].shape}\\n\")\n",
        "\n",
        "y_train.shape"
      ]
    },
    {
      "cell_type": "markdown",
      "metadata": {},
      "source": [
        "## Tuning pipeline"
      ]
    },
    {
      "cell_type": "code",
      "execution_count": 70,
      "metadata": {},
      "outputs": [],
      "source": [
        "from sklearn.linear_model import LinearRegression, BayesianRidge\n",
        "from sklearn.ensemble import RandomForestRegressor\n",
        "from sklearn.preprocessing import PolynomialFeatures\n",
        "from sklearn.preprocessing import StandardScaler, OneHotEncoder\n",
        "from sklearn.metrics import accuracy_score\n",
        "from sklearn.svm import SVR\n",
        "from platform import processor\n",
        "from sklearn.metrics import mean_squared_error\n",
        "\n",
        "from skopt.space import Real, Categorical, Integer\n",
        "from skopt import BayesSearchCV"
      ]
    },
    {
      "cell_type": "code",
      "execution_count": 71,
      "metadata": {},
      "outputs": [],
      "source": [
        "pipe_categorical = Pipeline(\n",
        "    steps = [\n",
        "        # Dummy encoding — N categories in a variable, N-1 binary variables.\n",
        "        # ('get_dum', pd.get_dummies(X_train ,drop_first = True))])\n",
        "\n",
        "        # Encoding helps to prevent bias in the model by ensuring that all features are equally weighted.\n",
        "        # sparse = False to not convert the array into Sparse Matrices (to still pandas)\n",
        "        ('one_hot', OneHotEncoder(handle_unknown = \"ignore\", sparse = False))])\n",
        "\n",
        "\n",
        "pipe_numerical = Pipeline(\n",
        "    steps = [\n",
        "        # There is a large scale between features values.\n",
        "        # Feature distribution are unknown.\n",
        "        # so the best solution to scale is Normalization.\n",
        "        # To avoid outliers I will used min/max scaler\n",
        "        ('scaler', preprocessing.MinMaxScaler())])\n",
        "        # ('scaler', StandardScaler())])\n",
        "\n",
        "\n",
        "#Applying steps of transformer in numerical and categorical features\n",
        "preprocessing = ColumnTransformer(\n",
        "    transformers = [\n",
        "                  ('num', pipe_numerical, numerical_features),\n",
        "                   ('cat', pipe_categorical, categorical_features)\n",
        "    ])\n",
        "\n",
        "# output is continuous values so it will used a regression models \n",
        "# Dependent variable is continuous values so we can use linear regression\n",
        "######## If I used feature select I should use lasso regression model \n",
        "# Linear Regression model\n",
        "# Bayesian Linear Regression (Linear Regression + Ridge Regression) but is more stable than the simple Linear Regression.\n",
        "# Deep learning model\n",
        "# Random Forest regression is an ensemble learning method which combines multiple decision trees and predicts the final output based on the average of each tree output.\n",
        "preprocessing_pipeline = Pipeline(\n",
        "    steps = [\n",
        "             ('preprocessing', preprocessing),\n",
        "            #  ('selector', SelectKBest(mutual_info_classif, k= 'all')),\n",
        "            #  ('my_classifier',LinearRegression())\n",
        "    ]\n",
        ") \n",
        "#LinearRegression Classifier by using feature selection\n",
        "full_pipeline_LR_FS = Pipeline(\n",
        "    steps = [\n",
        "             ('preprocessing', preprocessing),\n",
        "             ('my_classifier', LinearRegression())\n",
        "    ]\n",
        ")\n",
        "\n",
        "#BayesianRidge Classifier by using feature selection\n",
        "full_pipeline_BR_FS = Pipeline(\n",
        "    steps = [\n",
        "             ('preprocessing', preprocessing),\n",
        "             ('my_classifier', BayesianRidge())\n",
        "    ]\n",
        ")\n",
        "\n",
        "# #SVM Classifier by using feature selection\n",
        "# full_pipeline_SVM_FS = Pipeline(\n",
        "#     steps = [\n",
        "#              ('preprocessing', preprocessing),\n",
        "#              ('my_classifier', SVR(kernel = 'poly'))\n",
        "#     ]\n",
        "# )\n",
        "\n",
        "#RandomForestRegressor Classifier by using feature selection\n",
        "full_pipeline_RFR_FS = Pipeline(\n",
        "    steps = [\n",
        "             ('preprocessing', preprocessing),\n",
        "             ('my_classifier', RandomForestRegressor())\n",
        "    ]\n",
        ")\n",
        "\n",
        "# #PolynomialFeatures Classifier by using feature selection\n",
        "# full_pipeline_PFR_FS = Pipeline(\n",
        "#     steps = [\n",
        "#              ('preprocessing', preprocessing),\n",
        "#             #  ('selector', SelectKBest(mutual_info_classif, k=50)),\n",
        "#              ('my_classifier', PolynomialFeatures())\n",
        "#     ]\n",
        "# )"
      ]
    },
    {
      "cell_type": "code",
      "execution_count": 72,
      "metadata": {},
      "outputs": [],
      "source": [
        "# Function to print the accuracy and name of the model\n",
        "def print_res(model_accuracy, model_name):\n",
        "    print(f'The accuracy of {model_name} is {model_accuracy}')"
      ]
    },
    {
      "cell_type": "markdown",
      "metadata": {},
      "source": [
        "#### Linear Regression model"
      ]
    },
    {
      "cell_type": "code",
      "execution_count": 73,
      "metadata": {},
      "outputs": [
        {
          "name": "stderr",
          "output_type": "stream",
          "text": [
            "c:\\Users\\marim\\anaconda3\\Lib\\site-packages\\sklearn\\preprocessing\\_encoders.py:972: FutureWarning: `sparse` was renamed to `sparse_output` in version 1.2 and will be removed in 1.4. `sparse_output` is ignored unless you leave `sparse` to its default value.\n",
            "  warnings.warn(\n"
          ]
        },
        {
          "name": "stdout",
          "output_type": "stream",
          "text": [
            "The accuracy of Linear Regression is 0.9910057464633097\n",
            "Train mean_squared_error train: 3196143135.5968466\n",
            "Test mean_squared_error test: 3139548247.412535\n"
          ]
        }
      ],
      "source": [
        "full_pipeline_LR_FS = full_pipeline_LR_FS.fit(X_train, y_train)\n",
        "y_pred = full_pipeline_LR_FS.predict(X_train)\n",
        "y_pred_test = full_pipeline_LR_FS.predict(X_test)\n",
        "res_model = full_pipeline_LR_FS.score(X_test, y_test)\n",
        "print_res(res_model, 'Linear Regression')\n",
        "print('Train mean_squared_error train:', mean_squared_error(full_pipeline_LR_FS.predict(X_train), y_train))\n",
        "print('Test mean_squared_error test:', mean_squared_error(full_pipeline_LR_FS.predict(X_test), y_test))"
      ]
    },
    {
      "cell_type": "markdown",
      "metadata": {},
      "source": [
        "#### BayesianRidge Regression model"
      ]
    },
    {
      "cell_type": "code",
      "execution_count": 74,
      "metadata": {},
      "outputs": [
        {
          "name": "stderr",
          "output_type": "stream",
          "text": [
            "c:\\Users\\marim\\anaconda3\\Lib\\site-packages\\sklearn\\preprocessing\\_encoders.py:972: FutureWarning: `sparse` was renamed to `sparse_output` in version 1.2 and will be removed in 1.4. `sparse_output` is ignored unless you leave `sparse` to its default value.\n",
            "  warnings.warn(\n"
          ]
        },
        {
          "name": "stdout",
          "output_type": "stream",
          "text": [
            "The accuracy of BayesianRidge Regression model is 0.991005713715129\n",
            "Train mean_squared_error train: 3196143211.9713106\n",
            "Test mean_squared_error test: 3139559678.543868\n"
          ]
        }
      ],
      "source": [
        "#fit the model after getting the optimal hyperparameters values\n",
        "\n",
        "full_pipeline_BR_FS = full_pipeline_BR_FS.fit(X_train, y_train)\n",
        "# full_pipeline_BR_FS = full_pipeline_BR_FS.fit(full_pipeline_BR_FS_pro)\n",
        "y_pred = full_pipeline_BR_FS.predict(X_test)\n",
        "res_model = full_pipeline_BR_FS.score(X_test, y_test)\n",
        "print_res(res_model, 'BayesianRidge Regression model')\n",
        "print('Train mean_squared_error train:', mean_squared_error(full_pipeline_BR_FS.predict(X_train), y_train))\n",
        "print('Test mean_squared_error test:', mean_squared_error(full_pipeline_BR_FS.predict(X_test), y_test))"
      ]
    },
    {
      "cell_type": "code",
      "execution_count": 75,
      "metadata": {},
      "outputs": [
        {
          "name": "stdout",
          "output_type": "stream",
          "text": [
            "Train mean_squared_error train: 3196143211.9713106\n",
            "Test mean_squared_error test: 3139559678.543868\n"
          ]
        }
      ],
      "source": [
        "print('Train mean_squared_error train:', mean_squared_error(full_pipeline_BR_FS.predict(X_train), y_train))\n",
        "print('Test mean_squared_error test:', mean_squared_error(full_pipeline_BR_FS.predict(X_test), y_test))"
      ]
    },
    {
      "cell_type": "markdown",
      "metadata": {},
      "source": [
        "## Deep Learning model"
      ]
    },
    {
      "cell_type": "code",
      "execution_count": 76,
      "metadata": {},
      "outputs": [],
      "source": [
        "import keras\n",
        "from matplotlib import pyplot\n",
        "from keras.models import Sequential\n",
        "from keras.layers import Dense, Dropout \n",
        "from keras.callbacks import EarlyStopping\n",
        "from sklearn.preprocessing import MinMaxScaler"
      ]
    },
    {
      "cell_type": "code",
      "execution_count": 77,
      "metadata": {},
      "outputs": [
        {
          "data": {
            "text/plain": [
              "array([[1.56641604e-04, 2.22050898e-04, 0.00000000e+00, ...,\n",
              "        1.00000000e+00, 0.00000000e+00, 0.00000000e+00],\n",
              "       [0.00000000e+00, 3.22713971e-04, 1.00000000e+00, ...,\n",
              "        1.00000000e+00, 0.00000000e+00, 0.00000000e+00],\n",
              "       [6.26566416e-04, 4.91472653e-05, 0.00000000e+00, ...,\n",
              "        1.00000000e+00, 0.00000000e+00, 0.00000000e+00],\n",
              "       ...,\n",
              "       [1.30534670e-03, 2.48697005e-05, 0.00000000e+00, ...,\n",
              "        1.00000000e+00, 0.00000000e+00, 0.00000000e+00],\n",
              "       [1.04427736e-04, 4.43509660e-04, 0.00000000e+00, ...,\n",
              "        0.00000000e+00, 0.00000000e+00, 0.00000000e+00],\n",
              "       [3.13283208e-04, 1.74680039e-04, 0.00000000e+00, ...,\n",
              "        0.00000000e+00, 0.00000000e+00, 0.00000000e+00]])"
            ]
          },
          "execution_count": 77,
          "metadata": {},
          "output_type": "execute_result"
        }
      ],
      "source": [
        "# Encoding X training and testing\n",
        "X_train_clean = pd.get_dummies(X_train, columns = categorical_features)\n",
        "X_test_clean = pd.get_dummies(X_test, columns = categorical_features)\n",
        "\n",
        "\n",
        "# define min max scaler for Categorical columns\n",
        "scaler = MinMaxScaler()\n",
        "# transform data\n",
        "X_train_clean = scaler.fit_transform(X_train_clean)\n",
        "X_train_clean\n",
        "\n",
        "X_test_clean = scaler.fit_transform(X_test_clean)\n",
        "X_test_clean"
      ]
    },
    {
      "cell_type": "code",
      "execution_count": 78,
      "metadata": {},
      "outputs": [
        {
          "name": "stdout",
          "output_type": "stream",
          "text": [
            "(806277, 55)\n",
            "(806277, 13)\n"
          ]
        }
      ],
      "source": [
        "print(X_train_clean.shape)\n",
        "print(X_train.shape)"
      ]
    },
    {
      "cell_type": "code",
      "execution_count": 79,
      "metadata": {},
      "outputs": [
        {
          "name": "stdout",
          "output_type": "stream",
          "text": [
            "Epoch 1/100\n",
            "2581/2581 [==============================] - 20s 7ms/step - loss: 69505867776.0000 - mean_squared_error: 69505867776.0000 - mean_absolute_error: 105504.5391 - mean_absolute_percentage_error: 11297408000.0000 - cosine_proximity: 0.9992 - val_loss: 2667047680.0000 - val_mean_squared_error: 2667047680.0000 - val_mean_absolute_error: 22238.5430 - val_mean_absolute_percentage_error: 2439854336.0000 - val_cosine_proximity: 0.9995\n",
            "Epoch 2/100\n",
            "2581/2581 [==============================] - 15s 6ms/step - loss: 3696994048.0000 - mean_squared_error: 3696994048.0000 - mean_absolute_error: 25824.5449 - mean_absolute_percentage_error: 2435705600.0000 - cosine_proximity: 0.9905 - val_loss: 576519360.0000 - val_mean_squared_error: 576519360.0000 - val_mean_absolute_error: 9475.0508 - val_mean_absolute_percentage_error: 1688914048.0000 - val_cosine_proximity: 0.9904\n",
            "Epoch 3/100\n",
            "2581/2581 [==============================] - 15s 6ms/step - loss: 2401071616.0000 - mean_squared_error: 2401071616.0000 - mean_absolute_error: 21143.7520 - mean_absolute_percentage_error: 1487879936.0000 - cosine_proximity: 0.9206 - val_loss: 191501952.0000 - val_mean_squared_error: 191501952.0000 - val_mean_absolute_error: 5538.7573 - val_mean_absolute_percentage_error: 1068028096.0000 - val_cosine_proximity: 0.9893\n",
            "Epoch 4/100\n",
            "2581/2581 [==============================] - 16s 6ms/step - loss: 2265363968.0000 - mean_squared_error: 2265363968.0000 - mean_absolute_error: 20084.4336 - mean_absolute_percentage_error: 1124899456.0000 - cosine_proximity: 0.9384 - val_loss: 152274016.0000 - val_mean_squared_error: 152274016.0000 - val_mean_absolute_error: 5480.2295 - val_mean_absolute_percentage_error: 734209920.0000 - val_cosine_proximity: 0.9909\n",
            "Epoch 5/100\n",
            "2581/2581 [==============================] - 17s 7ms/step - loss: 2197012480.0000 - mean_squared_error: 2197012480.0000 - mean_absolute_error: 19737.0195 - mean_absolute_percentage_error: 1098167040.0000 - cosine_proximity: 0.8977 - val_loss: 102459032.0000 - val_mean_squared_error: 102459032.0000 - val_mean_absolute_error: 4220.9229 - val_mean_absolute_percentage_error: 1145304960.0000 - val_cosine_proximity: 0.9967\n",
            "Epoch 6/100\n",
            "2581/2581 [==============================] - 15s 6ms/step - loss: 2138617216.0000 - mean_squared_error: 2138617216.0000 - mean_absolute_error: 19522.6133 - mean_absolute_percentage_error: 1112844544.0000 - cosine_proximity: 0.8561 - val_loss: 149714480.0000 - val_mean_squared_error: 149714480.0000 - val_mean_absolute_error: 6162.0513 - val_mean_absolute_percentage_error: 759769152.0000 - val_cosine_proximity: 0.9941\n",
            "Epoch 7/100\n",
            "2581/2581 [==============================] - 16s 6ms/step - loss: 2080504064.0000 - mean_squared_error: 2080504064.0000 - mean_absolute_error: 19264.0918 - mean_absolute_percentage_error: 1075819776.0000 - cosine_proximity: 0.8235 - val_loss: 88547448.0000 - val_mean_squared_error: 88547448.0000 - val_mean_absolute_error: 4779.8149 - val_mean_absolute_percentage_error: 594124608.0000 - val_cosine_proximity: 0.9943\n",
            "Epoch 8/100\n",
            "2581/2581 [==============================] - 16s 6ms/step - loss: 2010696064.0000 - mean_squared_error: 2010696064.0000 - mean_absolute_error: 18856.9961 - mean_absolute_percentage_error: 891582848.0000 - cosine_proximity: 0.8199 - val_loss: 46298304.0000 - val_mean_squared_error: 46298304.0000 - val_mean_absolute_error: 2796.5054 - val_mean_absolute_percentage_error: 675235776.0000 - val_cosine_proximity: 0.9954\n",
            "Epoch 9/100\n",
            "2581/2581 [==============================] - 15s 6ms/step - loss: 1922070400.0000 - mean_squared_error: 1922070400.0000 - mean_absolute_error: 18345.6191 - mean_absolute_percentage_error: 855924800.0000 - cosine_proximity: 0.8376 - val_loss: 54482264.0000 - val_mean_squared_error: 54482264.0000 - val_mean_absolute_error: 3728.0642 - val_mean_absolute_percentage_error: 513184704.0000 - val_cosine_proximity: 0.9252\n",
            "Epoch 10/100\n",
            "2581/2581 [==============================] - 16s 6ms/step - loss: 1871897856.0000 - mean_squared_error: 1871897856.0000 - mean_absolute_error: 17949.3320 - mean_absolute_percentage_error: 846423936.0000 - cosine_proximity: 0.8530 - val_loss: 99081664.0000 - val_mean_squared_error: 99081664.0000 - val_mean_absolute_error: 5559.2461 - val_mean_absolute_percentage_error: 440774848.0000 - val_cosine_proximity: 0.9832\n",
            "Epoch 11/100\n",
            "2581/2581 [==============================] - 15s 6ms/step - loss: 1803075328.0000 - mean_squared_error: 1803075328.0000 - mean_absolute_error: 17438.3965 - mean_absolute_percentage_error: 689299520.0000 - cosine_proximity: 0.9199 - val_loss: 29932134.0000 - val_mean_squared_error: 29932134.0000 - val_mean_absolute_error: 2824.7209 - val_mean_absolute_percentage_error: 1060760832.0000 - val_cosine_proximity: 0.9953\n",
            "Epoch 12/100\n",
            "2581/2581 [==============================] - 15s 6ms/step - loss: 1779947520.0000 - mean_squared_error: 1779947520.0000 - mean_absolute_error: 17155.8320 - mean_absolute_percentage_error: 602873664.0000 - cosine_proximity: 0.9457 - val_loss: 29208648.0000 - val_mean_squared_error: 29208648.0000 - val_mean_absolute_error: 2817.9578 - val_mean_absolute_percentage_error: 324488736.0000 - val_cosine_proximity: 0.9957\n",
            "Epoch 13/100\n",
            "2581/2581 [==============================] - 15s 6ms/step - loss: 1788877568.0000 - mean_squared_error: 1788877568.0000 - mean_absolute_error: 17086.1504 - mean_absolute_percentage_error: 602326848.0000 - cosine_proximity: 0.9583 - val_loss: 44923380.0000 - val_mean_squared_error: 44923380.0000 - val_mean_absolute_error: 4046.5874 - val_mean_absolute_percentage_error: 212967120.0000 - val_cosine_proximity: 0.9768\n",
            "Epoch 14/100\n",
            "2581/2581 [==============================] - 16s 6ms/step - loss: 1771737600.0000 - mean_squared_error: 1771737600.0000 - mean_absolute_error: 16954.8965 - mean_absolute_percentage_error: 551823744.0000 - cosine_proximity: 0.9640 - val_loss: 97400080.0000 - val_mean_squared_error: 97400080.0000 - val_mean_absolute_error: 5609.2095 - val_mean_absolute_percentage_error: 306536800.0000 - val_cosine_proximity: 0.9968\n",
            "Epoch 15/100\n",
            "2581/2581 [==============================] - 15s 6ms/step - loss: 1739034880.0000 - mean_squared_error: 1739034880.0000 - mean_absolute_error: 16747.8613 - mean_absolute_percentage_error: 563113024.0000 - cosine_proximity: 0.9657 - val_loss: 40064996.0000 - val_mean_squared_error: 40064996.0000 - val_mean_absolute_error: 3676.6162 - val_mean_absolute_percentage_error: 449715136.0000 - val_cosine_proximity: 0.9990\n",
            "25197/25197 [==============================] - 47s 2ms/step\n",
            "6322.4670444405865\n",
            "6300/6300 [==============================] - 13s 2ms/step\n",
            "6921.628798025512\n"
          ]
        },
        {
          "data": {
            "image/png": "[encoded data removed]",
            "text/plain": [
              "<Figure size 640x480 with 1 Axes>"
            ]
          },
          "metadata": {},
          "output_type": "display_data"
        }
      ],
      "source": [
        "model = Sequential()\n",
        "model.add(Dense(500, input_dim = X_train_clean.shape[1], activation = \"relu\"))\n",
        "model.add(Dense(100, activation = \"relu\"))\n",
        "# To prevent overfitting\n",
        "model.add(Dropout(0.2))\n",
        "model.add(Dense(50, activation = \"relu\"))\n",
        "model.add(Dense(1))\n",
        "model.compile(loss = \"mean_squared_error\" , optimizer = \"adam\", metrics = [\"mean_squared_error\", 'mean_absolute_error', 'mean_absolute_percentage_error', 'cosine_proximity'])\n",
        "# To prevent overfitting\n",
        "early_stopping = EarlyStopping(monitor='val_loss', patience=3)\n",
        "history = model.fit(X_train_clean, y_train, epochs = 100, batch_size = 250, verbose = 1, validation_split = 0.2, callbacks=[early_stopping])\n",
        "pred_train= model.predict(X_train_clean)\n",
        "print(np.sqrt(mean_squared_error(y_train, pred_train)))\n",
        "pred= model.predict(X_test_clean)\n",
        "print(np.sqrt(mean_squared_error(y_test, pred)))\n",
        "# plot metrics\n",
        "plt.plot(history.history['loss'])\n",
        "plt.plot(history.history['val_loss'])\n",
        "plt.title('Model accuracy')\n",
        "plt.ylabel('Loss')\n",
        "plt.xlabel('Epoch')\n",
        "plt.legend(['Train', 'Val'])\n",
        "plt.show()\n"
      ]
    },
    {
      "cell_type": "code",
      "execution_count": null,
      "metadata": {},
      "outputs": [],
      "source": []
    }
  ],
  "metadata": {
    "colab": {
      "collapsed_sections": [
        "5uzhCjcIGjlu",
        "P8BR5ydyfANw",
        "wCP5pom53zBP",
        "vLHjUdewQaAm",
        "19zalsbPQ6DG",
        "Ph0B9RuEHdCU",
        "nNVbaKsiK2cz",
        "Vn0V6i6ftaY6",
        "5O-oOC39szM8",
        "CRbiKzYQMNWW"
      ],
      "provenance": []
    },
    "kernelspec": {
      "display_name": "Python 3",
      "name": "python3"
    },
    "language_info": {
      "codemirror_mode": {
        "name": "ipython",
        "version": 3
      },
      "file_extension": ".py",
      "mimetype": "text/x-python",
      "name": "python",
      "nbconvert_exporter": "python",
      "pygments_lexer": "ipython3",
      "version": "3.11.4"
    }
  },
  "nbformat": 4,
  "nbformat_minor": 0
}
